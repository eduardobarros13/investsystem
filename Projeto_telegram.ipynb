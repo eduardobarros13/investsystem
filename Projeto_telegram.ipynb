{
 "metadata": {
  "language_info": {
   "codemirror_mode": {
    "name": "ipython",
    "version": 3
   },
   "file_extension": ".py",
   "mimetype": "text/x-python",
   "name": "python",
   "nbconvert_exporter": "python",
   "pygments_lexer": "ipython3",
   "version": "3.7.6-final"
  },
  "orig_nbformat": 2,
  "kernelspec": {
   "name": "python3",
   "display_name": "Python 3"
  }
 },
 "nbformat": 4,
 "nbformat_minor": 2,
 "cells": [
  {
   "cell_type": "code",
   "execution_count": 1,
   "metadata": {},
   "outputs": [],
   "source": [
    "#Projeto de script que envia mensagem para Telegram#\n",
    "#Objetivo inicial eh enviar uma mensagem com ultima noticia, o robo passa a cada hora#\n",
    "#objetivo 2 eh o robo passar no banco de PUTs, filtrar, e se houver oportunidade, enviar mensagem#"
   ]
  },
  {
   "cell_type": "code",
   "execution_count": 1,
   "metadata": {},
   "outputs": [],
   "source": [
    "import requests, bs4,os\n",
    "url = ('https://valor.globo.com/')\n",
    "res = requests.get(url)\n",
    "objSoup=bs4.BeautifulSoup(res.text,features=\"html.parser\")\n",
    "newsValor = objSoup.select('.highlight__subtitle')\n",
    "full_text=[]\n",
    "\n",
    "for i in range(len(newsValor)):\n",
    "    full_text.append(newsValor[i].get_text() + \"\\n\\n\")\n",
    "\n",
    "\n",
    "\n",
    "import telebot    \n",
    "token = '1420279514:AAH4oV0KBDtAWClGDLZJyPNtvx9UlYANR70'\n",
    "bot = telebot.TeleBot(token)\n",
    "@bot.message_handler(commands=['start'])\n",
    "def say_hello(message):\n",
    "    chat_id = message.chat.id\n",
    "    bot.send_message(chat_id,full_text)\n",
    "bot.polling()"
   ]
  },
  {
   "cell_type": "code",
   "execution_count": null,
   "metadata": {},
   "outputs": [],
   "source": []
  }
 ]
}