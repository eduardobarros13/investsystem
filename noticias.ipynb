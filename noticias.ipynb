{
 "metadata": {
  "language_info": {
   "codemirror_mode": {
    "name": "ipython",
    "version": 3
   },
   "file_extension": ".py",
   "mimetype": "text/x-python",
   "name": "python",
   "nbconvert_exporter": "python",
   "pygments_lexer": "ipython3",
   "version": "3.7.6-final"
  },
  "orig_nbformat": 2,
  "kernelspec": {
   "name": "python3",
   "display_name": "Python 3",
   "language": "python"
  }
 },
 "nbformat": 4,
 "nbformat_minor": 2,
 "cells": [
  {
   "cell_type": "code",
   "execution_count": 2,
   "metadata": {},
   "outputs": [
    {
     "output_type": "stream",
     "name": "stdout",
     "text": [
      "0     Para Rocca, um plano de longo prazo, sustenta...\n1     \"O Brasil tem mostrado ao mundo que tem vonta...\n2     Marca foi estabelecida no dia em que o país e...\n3     Presidente da Câmara comentou a disputa pela ...\n4     Na comparação com o mesmo período de 2019, o ...\n5     Marcas redobram a atenção com a veiculação de...\n6     Produtos começariam a ser tributados a alíquo...\n7     Captação de recursos da plataforma saltou par...\n8     PhD e professor da The School of Life, Velasc...\n9     Pesquisa exclusiva vai ajudar você a diversif...\nName: Manchetes Valor, dtype: object\n"
     ]
    }
   ],
   "source": [
    "import bs4,requests,os\n",
    "import pandas as pd\n",
    "import sqlite3\n",
    "import time\n",
    "import schedule\n",
    "\n",
    "#def coletar_noticias():\n",
    "time.sleep(5)\n",
    "#Coleta manchetes valor Economico#\n",
    "url = ('https://valor.globo.com/')\n",
    "res = requests.get(url)\n",
    "objSoup=bs4.BeautifulSoup(res.text,features=\"html.parser\")\n",
    "newsValor = objSoup.select('.highlight__subtitle')\n",
    "full_text=[]\n",
    "\n",
    "for i in range(len(newsValor)):\n",
    "    full_text.append(newsValor[i].get_text() + \"\\n\\n\") \n",
    "\n",
    "#print(''.join(full_text))\n",
    "#Fim coleta valor Economico#\n",
    "\n",
    "\n",
    "\n",
    "#criando Data Frame#\n",
    "df = pd.DataFrame()\n",
    "df['Manchetes Valor'] = full_text \n",
    "\n",
    "#Preparando Banco de dados#\n",
    "Manchetes = df['Manchetes Valor'] \n",
    "\n",
    "print(Manchetes)\n",
    "\n",
    "noticias = pd.DataFrame({'Manchetes Valor': Manchetes})\n",
    "\n",
    "connection = sqlite3.connect('noticias.db')\n",
    "con = connection.cursor()\n",
    "\n",
    "def create_table():\n",
    "    con.execute('CREATE TABLE IF NOT EXISTS noticias (Manchetes text)')\n",
    "\n",
    "    create_table()\n",
    "\n",
    "noticias.to_sql(name = 'noticias', con = connection, if_exists = 'replace', index = False)\n",
    "\n",
    "\n",
    "#####Coleta Noticias CNBC###\n",
    "\n",
    "\n",
    "url = ('https://www.cnbc.com/?region=usa')\n",
    "res = requests.get('https://www.cnbc.com/?region=usa')\n",
    "objSoup=bs4.BeautifulSoup(res.text,features=\"html.parser\")\n",
    "newsCNBC = objSoup.select('.LatestNews-headline a')\n",
    "\n",
    "newsCNBC_all=[]\n",
    "\n",
    "for i in range(len(newsCNBC)):\n",
    "    newsCNBC_all.append(newsCNBC[i].get_text() + \"\\n\\n\")\n",
    "\n",
    "df = pd.DataFrame()\n",
    "df['Manchetes CNBC'] = newsCNBC_all \n",
    "\n",
    "#Preparando Banco de dados#\n",
    "CNBC = df['Manchetes CNBC']\n",
    "\n",
    "\n",
    "\n",
    "noticiasCNBC = pd.DataFrame({'Manchetes CNBC': CNBC})\n",
    "\n",
    "connection = sqlite3.connect('noticiasCNBC.db')\n",
    "con = connection.cursor()\n",
    "\n",
    "def create_table():\n",
    "    con.execute('CREATE TABLE IF NOT EXISTS noticiasCNBC (ManchetesCNBC text)')\n",
    "\n",
    "    create_table()\n",
    "\n",
    "noticiasCNBC.to_sql(name = 'noticiasCNBC', con = connection, if_exists = 'replace', index = False)\n",
    "\n",
    "\n"
   ]
  },
  {
   "cell_type": "code",
   "execution_count": 3,
   "metadata": {},
   "outputs": [
    {
     "output_type": "stream",
     "name": "stdout",
     "text": [
      "                                       Manchetes CNBC\n0   Former Google exec explains why he didn't use ...\n1   Stock futures open flat, stimulus negotiations...\n2   Stocks making the biggest moves after the bell...\n3              HBO Max launches on Roku Thursday \\n\\n\n4   SolarWinds hack has shaved 23% from software c...\n5   Feds seize millions in PPP funds from internat...\n6   Powell says stock prices are not necessarily h...\n7   Holiday shoppers pull back on impulse buys, th...\n8   'We want them infected,' HHS official said in ...\n9   Biden says 'I am confident' Hunter Biden did n...\n10  FDA authorizes Abbott's rapid $25 Covid test f...\n11  This family traded all their gold for bitcoin....\n12  The year's top tech stock isn't Zoom — it's no...\n13  At-home Covid test may be for sale at drugstor...\n14  Twitter will label and remove misinformation a...\n15  How this money coach saves 50% of her income w...\n16  Covid-19 antibody drug used to treat President...\n17  4 tips on how to stay focused, from a chess gr...\n18  The FDA just approved a $30 at-home Covid test...\n19  Fed raises its economic outlook slightly, sees...\n20  NY Gov. Cuomo warns January economic shutdown ...\n21  The Fed can help everyday Americans, even with...\n22  Texas antitrust lawsuit against Google alleges...\n23  Here’s what changed in the new Fed statement \\n\\n\n24  Fed commits to keep buying bonds until the eco...\n25  Amazon tests antenna for its global satellite ...\n26  Second stimulus checks could be less than $1,2...\n27  Biden inaugural committee unveils packages off...\n28  Bipartisan Covid-19 relief bill provides 'esse...\n29  Mike Santoli’s market notes: Push-pull market,...\n"
     ]
    }
   ],
   "source": [
    "print(noticiasCNBC)"
   ]
  },
  {
   "cell_type": "code",
   "execution_count": null,
   "metadata": {},
   "outputs": [],
   "source": []
  }
 ]
}