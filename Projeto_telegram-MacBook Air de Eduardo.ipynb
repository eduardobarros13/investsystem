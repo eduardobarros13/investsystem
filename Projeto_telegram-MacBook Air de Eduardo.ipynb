{
 "metadata": {
  "language_info": {
   "codemirror_mode": {
    "name": "ipython",
    "version": 3
   },
   "file_extension": ".py",
   "mimetype": "text/x-python",
   "name": "python",
   "nbconvert_exporter": "python",
   "pygments_lexer": "ipython3",
   "version": "3.7.6-final"
  },
  "orig_nbformat": 2,
  "kernelspec": {
   "name": "python3",
   "display_name": "Python 3"
  }
 },
 "nbformat": 4,
 "nbformat_minor": 2,
 "cells": [
  {
   "cell_type": "code",
   "execution_count": null,
   "metadata": {},
   "outputs": [],
   "source": [
    "#Projeto de script que envia mensagem para Telegram#\n",
    "#Objetivo inicial eh enviar uma mensagem com ultima noticia, o robo passa a cada hora#\n",
    "#objetivo 2 eh o robo passar no banco de PUTs, filtrar, e se houver oportunidade, enviar mensagem#"
   ]
  },
  {
   "cell_type": "code",
   "execution_count": 1,
   "metadata": {},
   "outputs": [],
   "source": [
    "import requests, bs4,os\n",
    "import telebot\n",
    "import pandas as pd\n",
    "\n",
    "\n",
    "###iniciar bot##    \n",
    "token = '1420279514:AAH4oV0KBDtAWClGDLZJyPNtvx9UlYANR70'\n",
    "bot = telebot.TeleBot(token)\n",
    "@bot.message_handler(commands=['valor'])\n",
    "def rastrear_put(message):\n",
    "    url = ('https://valor.globo.com/')\n",
    "    res = requests.get(url)\n",
    "    objSoup=bs4.BeautifulSoup(res.text,features=\"html.parser\")\n",
    "    newsValor = objSoup.select('.highlight__subtitle')\n",
    "    \n",
    "\n",
    "    chat_id = message.chat.id\n",
    "    bot.send_message(chat_id,newsValor)\n",
    "\n",
    "@bot.message_handler(commands=['mundo'])\n",
    "def enviar_noticia(message):\n",
    "    url = ('https://www.cnbc.com/?region=usa')\n",
    "    res = requests.get('https://www.cnbc.com/?region=usa')\n",
    "    objSoup=bs4.BeautifulSoup(res.text,features=\"html.parser\")\n",
    "    CNBC = objSoup.select('.LatestNews-headline a')\n",
    "\n",
    "    chat_id = message.chat.id\n",
    "    bot.send_message(chat_id,CNBC)\n",
    "\n",
    "@bot.message_handler(commands=['put'])\n",
    "def enviar_noticia(message):\n",
    "    df = pd.DataFrame()\n",
    "    df = pd.read_excel('InvestSystem3.0_django.xlsm', decimal=\",\", thousands='.', sheet_name='PUT', header=0, convert_float=True, na_values=True)\n",
    "    df = df.rename(columns={'Robo PUT':\"Robo_PUT\", 'Real Time':\"Cotacao\",})    \n",
    "    df = df[df.Robo_PUT == \"Montar\"]\n",
    "\n",
    "    chat_id = message.chat.id\n",
    "    bot.send_message(chat_id,df)\n",
    "\n",
    "\n",
    "bot.polling()\n",
    "\n"
   ]
  },
  {
   "cell_type": "code",
   "execution_count": 48,
   "metadata": {},
   "outputs": [],
   "source": [
    "import pandas as pd\n",
    "\n",
    "df = pd.DataFrame()\n",
    "df = pd.read_excel('InvestSystem3.0_django.xlsm', decimal=\",\", thousands='.', sheet_name='PUT', header=0, convert_float=True, na_values=True)\n",
    "\n",
    "df = df.rename(columns={'Robo PUT':\"Robo_PUT\", 'Real Time':\"Cotacao\",\n",
    "                        })    \n",
    "df = df[df.Robo_PUT == \"Montar\"] "
   ]
  }
 ]
}