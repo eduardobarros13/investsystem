{
  "nbformat": 4,
  "nbformat_minor": 0,
  "metadata": {
    "colab": {
      "name": "IQ.ipynb",
      "provenance": [],
      "collapsed_sections": [],
      "include_colab_link": true
    },
    "kernelspec": {
      "display_name": "Python 3",
      "name": "python3",
      "language": "python"
    }
  },
  "cells": [
    {
      "cell_type": "markdown",
      "metadata": {
        "id": "view-in-github",
        "colab_type": "text"
      },
      "source": [
        "<a href=\"https://colab.research.google.com/github/eduardobarros13/investsystem/blob/master/IQ.ipynb\" target=\"_parent\"><img src=\"https://colab.research.google.com/assets/colab-badge.svg\" alt=\"Open In Colab\"/></a>"
      ]
    },
    {
      "cell_type": "code",
      "metadata": {
        "id": "6bYApbFj8uwq"
      },
      "source": [
        "import datetime\n",
        "from datetime import date\n",
        "from datetime import timedelta\n",
        "import pandas as pd\n",
        "from IPython.display import display, HTML\n",
        "from bs4 import BeautifulSoup\n",
        "import requests\n",
        "import json\n",
        "import plotly.graph_objects as go\n",
        "import matplotlib\n",
        "import matplotlib.pyplot as plt\n",
        "import numpy as np\n",
        "%matplotlib inline"
      ],
      "execution_count": 18,
      "outputs": []
    },
    {
      "cell_type": "code",
      "metadata": {
        "id": "5upcM0oJOVdk"
      },
      "source": [
        "feriados = {}\n",
        "feriados[datetime.datetime(2020, 2, 24).strftime(\"%d/%m/%Y\")] = True\n",
        "feriados[datetime.datetime(2020, 2, 25).strftime(\"%d/%m/%Y\")] = True\n",
        "feriados[datetime.datetime(2020, 4, 10).strftime(\"%d/%m/%Y\")] = True\n",
        "feriados[datetime.datetime(2020, 4, 21).strftime(\"%d/%m/%Y\")] = True\n",
        "feriados[datetime.datetime(2020, 5, 1).strftime(\"%d/%m/%Y\")] = True\n",
        "feriados[datetime.datetime(2020, 7, 17).strftime(\"%d/%m/%Y\")] = True\n",
        "feriados[datetime.datetime(2020, 9, 7).strftime(\"%d/%m/%Y\")] = True\n",
        "feriados[datetime.datetime(2020, 10, 12).strftime(\"%d/%m/%Y\")] = True\n",
        "feriados[datetime.datetime(2020, 11, 2).strftime(\"%d/%m/%Y\")] = True\n",
        "feriados[datetime.datetime(2020, 11, 15).strftime(\"%d/%m/%Y\")] = True\n",
        "feriados[datetime.datetime(2020, 12, 25).strftime(\"%d/%m/%Y\")] = True"
      ],
      "execution_count": 19,
      "outputs": []
    },
    {
      "cell_type": "markdown",
      "metadata": {
        "id": "E5kMnbF8uOjL"
      },
      "source": [
        "### ESCOLHER A AÇÃO PRINCIPAL"
      ]
    },
    {
      "cell_type": "code",
      "metadata": {
        "id": "j-PbiqGAnlRq"
      },
      "source": [
        "petro = {\"nome\": \"PETROLEO BRASILEIRO S.A. PETROBRAS\", \"ticker\":'PETR4', \"letra\": \"P\", \"tipo\":\"PN\", \"aluguel\":\"PETROLEO%20BRASIL\"}\n",
        "vara = {\"nome\": \"VIA VAREJO S.A.\", \"ticker\":'VVAR3', \"letra\": \"V\", \"tipo\":\"ON\"}\n",
        "itub = {\"nome\": \"ITAU UNIBANCO HOLDING S.A.\",\"ticker\":'ITUB4', \"letra\": \"I\", \"tipo\":\"PN\"}\n",
        "bradesco = {\"nome\": \"BCO BRADESCO S.A.\",\"ticker\":'BBDC4', \"letra\": \"B\", \"tipo\":\"PN\"}\n",
        "bb = {\"nome\": \"BCO BRASIL S.A.\", \"ticker\":'BBAS3',\"letra\": \"B\", \"tipo\":\"ON\"}\n",
        "conga = {\"nome\": \"COGNA\", \"ticker\":'COGN3',\"letra\": \"C\", \"tipo\":\"ON\"}\n",
        "irb = {\"nome\": \"IRB\", \"ticker\":'IRBR3',\"letra\": \"I\", \"tipo\":\"ON\"}\n",
        "vale = {\"nome\": \"VALE\", \"ticker\":'VALE3',\"letra\": \"V\", \"tipo\":\"ON\"}\n",
        "empresa = conga"
      ],
      "execution_count": 20,
      "outputs": []
    },
    {
      "cell_type": "markdown",
      "metadata": {
        "id": "02WbveFr835z"
      },
      "source": [
        "### Funções"
      ]
    },
    {
      "cell_type": "code",
      "metadata": {
        "id": "5N283Ujj86d7"
      },
      "source": [
        "def isFeriado(data):\n",
        "  return feriados.get(data.strftime(\"%d/%m/%Y\"))\n",
        "\n",
        "##### Calcula a data de vencimento do próximo strike\n",
        "def getDataVencimento(data):\n",
        "    dia1Mes = data - timedelta(data.day-1)\n",
        "    weekDay1 = dia1Mes.weekday()\n",
        "    \n",
        "    contador = 0\n",
        "    diaVencimento = 0\n",
        "    \n",
        "    while(contador < 3):\n",
        "        diaVencimento += 1        \n",
        "        if(weekDay1 % 7) == 0:\n",
        "            contador += 1\n",
        "            \n",
        "        weekDay1 +=1\n",
        "        \n",
        "    return data.replace(day=diaVencimento)\n",
        "\n",
        "##### Pega o dia de negociação anterior\n",
        "def getDiaDeNegociacaoAnterior(dataReferencia):\n",
        "  diaAnterior = dataReferencia - datetime.timedelta(days=1)\n",
        "  feriado = isFeriado(diaAnterior)\n",
        "  sabado = diaAnterior.weekday() == 5\n",
        "  domingo = diaAnterior.weekday() == 6\n",
        "\n",
        "  if(feriado or sabado or domingo):\n",
        "    return getDiaDeNegociacaoAnterior(diaAnterior)\n",
        "  else :\n",
        "    return diaAnterior\n",
        "\n",
        "\n",
        "##### Monta a URL de CONSULTA de opções\n",
        "def getUrlConsulta(dataConsulta):\n",
        "    dataConsulta = dataConsulta.strftime(\"%Y%m%d\")\n",
        "    \n",
        "    url = \"http://www.b3.com.br/json/\"\n",
        "    url += dataConsulta\n",
        "    url += \"/Posicoes/Empresa/SI_C_OPCPOSABEMP.json\" \n",
        "\n",
        "    return url\n",
        "\n",
        "def montaTabela(callsPenultimoDia, callsUltimoDia):\n",
        "  dados = []\n",
        "  for opcao in callsPenultimoDia:\n",
        "\n",
        "    ultimo = callsUltimoDia.get(opcao)\n",
        "    penultimo = callsPenultimoDia.get(opcao)\n",
        "    if(not ultimo) or (not penultimo):\n",
        "      continue\n",
        "\n",
        "    #[0-codigo, 1-strike, 2-iq, 3-descobertos, 4-total, 5-titular, 6-lancador]\n",
        "    \n",
        "    diferencaIQ = ultimo[2] - penultimo[2]\n",
        "    \n",
        "    IQ = \"%1.2f (%1.2f)\" % (ultimo[2], diferencaIQ)\n",
        "\n",
        "\n",
        "    #DESCOBERTAS\n",
        "    descobertas = \"%1.2f MM \" % (ultimo[3]/1000000)\n",
        "    descobertas = descobertas.rjust(4, \" \")\n",
        "\n",
        "    difDescobertas = (ultimo[3] - penultimo[3])/1000000\n",
        "    difDescobertas = \"%1.2f\" % difDescobertas\n",
        "    difDescobertas = difDescobertas.rjust(5, \"+\")\n",
        "    \n",
        "    descobertas = descobertas + \" (\" + difDescobertas + \")\"\n",
        "\n",
        "\n",
        "    #TRAVADAS\n",
        "    travadas = \"%1.2f MM \" % (ultimo[4]/1000000)\n",
        "    travadas = travadas.rjust(4, \" \")\n",
        "\n",
        "    difTravadas = (ultimo[4] - penultimo[4])/1000000\n",
        "    difTravadas = \"%1.2f\" % difTravadas\n",
        "    difTravadas = difTravadas.rjust(5, \"+\")\n",
        "\n",
        "    travadas = travadas +  \" (\" + difTravadas + \")\"\n",
        "\n",
        "    total = \"%1.2f MM \" % (ultimo[5]/1000000)\n",
        "    total = total.rjust(4, \" \")\n",
        "\n",
        "    difTotal = (ultimo[5] - penultimo[5])/1000000\n",
        "    difTotal = \"%1.2f\" % difTotal\n",
        "    difTotal = difTotal.rjust(5, \"+\")\n",
        "\n",
        "    total = total + \" (\" + difTotal + \")\"\n",
        "\n",
        "    ##print(\"%8s - R$ %s - IQ:%s - V Descobertas: %s MM - TOTAL %s - Compradores: %s - Lançadores %s\" %(ultimo[0], ultimo[1], IQ, descobertas, total, ultimo[5], ultimo[6]))\n",
        "    ##arquivo.write(\"%s - R$ %s - IQ:%1.2f (%s) - V Descobertas: %s (%s) MM - Compradores: %d\\n\" %(ticker, strike, opcao[2], diferenca, descobertas, diferencaDescobertas, opcao[4]))\n",
        "\n",
        "    dados.append([ultimo[0], ultimo[1], IQ, descobertas, travadas, total , int(ultimo[6]), int(ultimo[7])])\n",
        "\n",
        "  return dados\n"
      ],
      "execution_count": 21,
      "outputs": []
    },
    {
      "cell_type": "markdown",
      "metadata": {
        "id": "LovUbcsoDv3y"
      },
      "source": [
        "### Pega a data do vencimento e os dois últimos dias de negociação"
      ]
    },
    {
      "cell_type": "code",
      "metadata": {
        "colab": {
          "base_uri": "https://localhost:8080/"
        },
        "id": "UlYZVpx1-rbS",
        "outputId": "76bb61ee-b612-4e4a-f045-c8f1ea0bad40"
      },
      "source": [
        "#Data de consulta de hoje e url\n",
        "hoje =  date.today()\n",
        "print (\"Hoje é\", hoje.strftime(\"%d/%m/%Y\"))\n",
        "\n",
        "#atrasando um dia por causa da B3\n",
        "#deltaDias = datetime.timedelta(days=1)\n",
        "#hoje = hoje - deltaDias\n",
        "\n",
        "\n",
        "dataVencimento = getDataVencimento(hoje)\n",
        "if (dataVencimento <= hoje):\n",
        "    diaMesQueVem = hoje + datetime.timedelta(days=30)\n",
        "    dataVencimento = getDataVencimento(diaMesQueVem)"
      ],
      "execution_count": 22,
      "outputs": [
        {
          "output_type": "stream",
          "name": "stdout",
          "text": [
            "Hoje é 22/12/2020\n"
          ]
        }
      ]
    },
    {
      "cell_type": "code",
      "metadata": {
        "colab": {
          "base_uri": "https://localhost:8080/"
        },
        "id": "bebcricydTr9",
        "outputId": "977df304-bf28-441c-ce79-fcce3215ee8f"
      },
      "source": [
        "vencimento = dataVencimento.strftime(\"%d/%m/%Y\")\n",
        "print(\"Vencimento: {}\".format(vencimento))"
      ],
      "execution_count": 23,
      "outputs": [
        {
          "output_type": "stream",
          "name": "stdout",
          "text": [
            "Vencimento: 18/01/2021\n"
          ]
        }
      ]
    },
    {
      "cell_type": "code",
      "metadata": {
        "colab": {
          "base_uri": "https://localhost:8080/"
        },
        "id": "2HpoJJcmdQd4",
        "outputId": "1caa0c18-24af-499a-f006-fbc2848ec462"
      },
      "source": [
        "ultimoDiaUtil = getDiaDeNegociacaoAnterior(hoje)\n",
        "dataConsulta = ultimoDiaUtil.strftime(\"%d/%m/%Y\") \n",
        "print(\"Data do último dia de negociação: {}\".format(dataConsulta))\n",
        "\n",
        "urlUltimoDia = getUrlConsulta(ultimoDiaUtil)\n",
        "print (urlUltimoDia)\n",
        "print ()\n",
        "\n",
        "#Data de consulta de ontem url\n",
        "deltaDias = datetime.timedelta(days=1)\n",
        "ontem = hoje - deltaDias\n",
        "\n",
        "penultimoDiaUtil = getDiaDeNegociacaoAnterior(ultimoDiaUtil) \n",
        "\n",
        "penultimaDataConsulta = penultimoDiaUtil.strftime(\"%d/%m/%Y\") \n",
        "print(\"Data do peníltimo dia negociação: {}\".format(penultimaDataConsulta))\n",
        "\n",
        "urlPenultimoDiaUtil = getUrlConsulta(penultimoDiaUtil)\n",
        "print (urlPenultimoDiaUtil)\n"
      ],
      "execution_count": 24,
      "outputs": [
        {
          "output_type": "stream",
          "name": "stdout",
          "text": [
            "Data do último dia de negociação: 21/12/2020\nhttp://www.b3.com.br/json/20201221/Posicoes/Empresa/SI_C_OPCPOSABEMP.json\n\nData do peníltimo dia negociação: 18/12/2020\nhttp://www.b3.com.br/json/20201218/Posicoes/Empresa/SI_C_OPCPOSABEMP.json\n"
          ]
        }
      ]
    },
    {
      "cell_type": "markdown",
      "metadata": {
        "id": "-ohaDqi0ETSF"
      },
      "source": [
        "### Busca os JSONs dos dois últimos dias e monta as listas"
      ]
    },
    {
      "cell_type": "code",
      "metadata": {
        "id": "Ol2XtyOv1RAB"
      },
      "source": [
        "jsonUltimoDia = requests.get(urlUltimoDia)\n",
        "jsonPenultimoDia = requests.get(urlPenultimoDiaUtil)"
      ],
      "execution_count": 25,
      "outputs": []
    },
    {
      "cell_type": "code",
      "metadata": {
        "id": "T58HP0GCUwXi"
      },
      "source": [
        "def makeFilter(dataVencimento, empresa):\n",
        "  def filtraOpcoes(item):\n",
        "    isVencimento = (item['dtVen'] == dataVencimento)\n",
        "    isEmpresa = (item['mer'] == empresa[\"ticker\"][:4])\n",
        "    isPN = ( empresa['tipo'] in item['espPap'] )\n",
        "\n",
        "    if isVencimento and isEmpresa and isPN :\n",
        "      return True\n",
        "    return False\n",
        "  \n",
        "  return filtraOpcoes\n",
        "\n",
        "def filtraCalls(item):\n",
        "  isCall = (item['ser'][4] < 'M')\n",
        "  if isCall:\n",
        "    return True\n",
        "  return False\n",
        "\n",
        "def filtraPuts(item):\n",
        "  isPut = (item['ser'][4] >= 'M')\n",
        "  if isPut:\n",
        "    return True\n",
        "  return False\n",
        "\n",
        "filtroEmpreVenc = makeFilter(dataVencimento.strftime(\"%Y%m%d\"), empresa)\n",
        "\n",
        "dictJson = json.loads(jsonUltimoDia.text)\n",
        "lista = dictJson['Empresa'][empresa['letra']]\n",
        "opcoesUltimoDia = list(filter(filtroEmpreVenc, lista))\n",
        "\n",
        "dictJson = json.loads(jsonPenultimoDia.text)\n",
        "lista = dictJson['Empresa'][empresa['letra']]\n",
        "opcoesPenultimoDia = list(filter(filtroEmpreVenc, lista))"
      ],
      "execution_count": 26,
      "outputs": []
    },
    {
      "cell_type": "markdown",
      "metadata": {
        "id": "mQjpflkFh0py"
      },
      "source": [
        "### Separando calls e puts em DataFrame"
      ]
    },
    {
      "cell_type": "code",
      "metadata": {
        "id": "7bU_HpURhyKT"
      },
      "source": [
        "callsUltimoDia = pd.DataFrame(list(filter(filtraCalls, opcoesUltimoDia)))\n",
        "putsUltimoDia =  pd.DataFrame(list(filter(filtraPuts, opcoesUltimoDia)))\n",
        "\n",
        "callsPenultimoDia = pd.DataFrame(list(filter(filtraCalls, opcoesPenultimoDia)))\n",
        "putsPenultimoDia =  pd.DataFrame(list(filter(filtraPuts, opcoesPenultimoDia)))"
      ],
      "execution_count": 27,
      "outputs": []
    },
    {
      "cell_type": "markdown",
      "metadata": {
        "id": "bUUrFLcnjwiD"
      },
      "source": [
        "### CONVERTENDO O DF com dados da B3 em formato de impressão"
      ]
    },
    {
      "cell_type": "code",
      "metadata": {
        "id": "gU4LyIZkFJ0m"
      },
      "source": [
        "def extracaoOpcoes(opts):\n",
        "  opts.columns = ['serie','exercicio','empresa','coberto','descoberto','titulares','trava','total','lancadores', 'vencimento', 'tipoMercado','mer','espPap']\n",
        "  opts = opts.sort_values(by=['exercicio'])\n",
        "  \n",
        "  hashMap = {}\n",
        "  for index, row in opts.iterrows():\n",
        "\n",
        "    titular = row['titulares']\n",
        "    lancador = row['lancadores']\n",
        "    \n",
        "    iq = round(titular/lancador,2) \n",
        "    \n",
        "    descobertos = row['descoberto']\n",
        "\n",
        "    travadas = row['trava']\n",
        "\n",
        "    total = row['total']\n",
        "                \n",
        "    strike = row['exercicio']\n",
        "                    \n",
        "    codigo = row['serie'].strip()\n",
        "    hashMap[codigo] = [codigo, strike, iq, descobertos, travadas, total, titular, lancador]\n",
        "  \n",
        "  return hashMap\n",
        "\n",
        "### convertendo o DF da B3  \n",
        "callsUltimoDia = extracaoOpcoes(callsUltimoDia)\n",
        "callsPenultimoDia = extracaoOpcoes(callsPenultimoDia)\n",
        "\n",
        "putsUltimoDia =  extracaoOpcoes(putsUltimoDia)\n",
        "putsPenultimoDia = extracaoOpcoes(putsPenultimoDia)"
      ],
      "execution_count": 28,
      "outputs": []
    },
    {
      "cell_type": "code",
      "metadata": {
        "id": "96ZFXyiIvgol"
      },
      "source": [
        "# escolher a ação desejada\n",
        "acao = empresa['ticker']+'.SA'\n",
        " \n",
        "# importar dados para o DataFrame\n",
        "dtInicio = ultimoDiaUtil.strftime(\"%m/%d/%Y\")\n",
        "#df = dr.DataReader(acao, data_source='yahoo', start=dtInicio)\n",
        " \n",
        "#ultimoPreco = df.iloc[0]\n",
        "#print(ultimoPreco['Close'])\n",
        "\n"
      ],
      "execution_count": 29,
      "outputs": []
    },
    {
      "cell_type": "markdown",
      "metadata": {
        "id": "XhBTDL_QvjLz"
      },
      "source": [
        "### ESCOLHER O A QTD DE CALLS DE VENCIMENTO ATUAL QUE VAI APARECER NA TABELA E NOS GRÁFICOS - Não afetas as puts, nem afeta as calls do próximo vencimento - escolher início e fim do intervalo"
      ]
    },
    {
      "cell_type": "markdown",
      "metadata": {
        "id": "XXexKlTO73Ok"
      },
      "source": [
        "# CALLS DO VENCIMENTO ATUAL"
      ]
    },
    {
      "cell_type": "code",
      "metadata": {
        "colab": {
          "base_uri": "https://localhost:8080/",
          "height": 990
        },
        "id": "TbfSLCOT7qXx",
        "outputId": "2549df09-cd35-497a-adda-b7a6a6eebfb9"
      },
      "source": [
        "import openpyxl\n",
        "\n",
        "inicioCalls = 45\n",
        "fimCalls = 75\n",
        "\n",
        "dados = montaTabela(callsPenultimoDia, callsUltimoDia)\n",
        "dfIQ = pd.DataFrame(dados, columns=['Código', 'Strike', 'IQ', 'Descobertas', 'Travadas', 'Total', 'Titulares', 'Lançadores'])\n",
        "\n",
        "\n",
        "#display(HTML(dfIQ[1:60].to_html()))\n",
        "len(dfIQ)\n",
        "\n",
        "workbook = openpyxl.Workbook()\n",
        "sheet = workbook.get_sheet_by_name('Sheet')\n",
        "\n",
        "sheet.title = 'Call'\n",
        "row = 1\n",
        "for j in dfIQ['Código']:\n",
        "    row = row + 1 \n",
        "    sheet.cell(row = row,column=1).value=j\n",
        "sheet['A1'] = 'Codigo'  \n",
        "row = 1\n",
        "for j in dfIQ['Strike']:\n",
        "    row = row + 1 \n",
        "    sheet.cell(row = row,column=2).value=j\n",
        "sheet['B1'] = 'Strike'\n",
        "row = 1\n",
        "for j in dfIQ['Descobertas']:\n",
        "    row = row + 1 \n",
        "    sheet.cell(row = row,column=3).value=j\n",
        "sheet['C1'] = 'Descobertas'\n",
        "row = 1\n",
        "for j in dfIQ['Titulares']:\n",
        "    row = row + 1 \n",
        "    sheet.cell(row = row,column=4).value=j\n",
        "sheet['D1'] = 'Titulares'\n",
        "row = 1\n",
        "for j in dfIQ['Lançadores']:\n",
        "    row = row + 1 \n",
        "    sheet.cell(row = row,column=5).value=j\n",
        "sheet['E1'] = 'Lançadores'\n"
      ],
      "execution_count": 30,
      "outputs": []
    },
    {
      "cell_type": "code",
      "execution_count": 31,
      "metadata": {},
      "outputs": [],
      "source": [
        " workbook.save('BD_opcoes.xlsx')"
      ]
    },
    {
      "cell_type": "markdown",
      "metadata": {
        "id": "jBUHRNUR79H6"
      },
      "source": [
        "# PUTS DO VENCIMENTO ATUAL"
      ]
    },
    {
      "cell_type": "code",
      "metadata": {
        "colab": {
          "base_uri": "https://localhost:8080/",
          "height": 834
        },
        "id": "t4HrYnX878Y1",
        "outputId": "4da4d698-5730-4026-e4ea-d981108d9a28"
      },
      "source": [
        "dados = montaTabela(putsPenultimoDia, putsUltimoDia)\n",
        "dfIQ = pd.DataFrame(dados, columns=['Código', 'Strike', 'IQ', 'Descobertas', 'Travadas' , 'Total', 'Titulares', 'Lançadores'])\n",
        "display(HTML(dfIQ[:60].to_html()))\n",
        "callMes = len(dfIQ)"
      ],
      "execution_count": 32,
      "outputs": [
        {
          "output_type": "display_data",
          "data": {
            "text/plain": "<IPython.core.display.HTML object>",
            "text/html": "<table border=\"1\" class=\"dataframe\">\n  <thead>\n    <tr style=\"text-align: right;\">\n      <th></th>\n      <th>Código</th>\n      <th>Strike</th>\n      <th>IQ</th>\n      <th>Descobertas</th>\n      <th>Travadas</th>\n      <th>Total</th>\n      <th>Titulares</th>\n      <th>Lançadores</th>\n    </tr>\n  </thead>\n  <tbody>\n    <tr>\n      <th>0</th>\n      <td>COGNM340</td>\n      <td>3.40</td>\n      <td>1.40 (0.40)</td>\n      <td>0.03 MM  (+0.00)</td>\n      <td>0.14 MM  (+0.14)</td>\n      <td>0.17 MM  (+0.14)</td>\n      <td>7</td>\n      <td>5</td>\n    </tr>\n    <tr>\n      <th>1</th>\n      <td>COGNM350</td>\n      <td>3.50</td>\n      <td>2.00 (-0.67)</td>\n      <td>0.07 MM  (+0.01)</td>\n      <td>0.20 MM  (+0.14)</td>\n      <td>0.27 MM  (+0.15)</td>\n      <td>14</td>\n      <td>7</td>\n    </tr>\n    <tr>\n      <th>2</th>\n      <td>COGNM380</td>\n      <td>3.80</td>\n      <td>1.08 (0.08)</td>\n      <td>0.05 MM  (+0.04)</td>\n      <td>0.15 MM  (+0.13)</td>\n      <td>0.19 MM  (+0.17)</td>\n      <td>13</td>\n      <td>12</td>\n    </tr>\n    <tr>\n      <th>3</th>\n      <td>COGNM390</td>\n      <td>3.90</td>\n      <td>0.57 (-0.43)</td>\n      <td>0.04 MM  (+0.03)</td>\n      <td>0.19 MM  (+0.19)</td>\n      <td>0.23 MM  (+0.23)</td>\n      <td>4</td>\n      <td>7</td>\n    </tr>\n    <tr>\n      <th>4</th>\n      <td>COGNM400</td>\n      <td>4.00</td>\n      <td>1.31 (-0.08)</td>\n      <td>1.48 MM  (+0.07)</td>\n      <td>1.41 MM  (-0.30)</td>\n      <td>2.88 MM  (-0.23)</td>\n      <td>192</td>\n      <td>147</td>\n    </tr>\n    <tr>\n      <th>5</th>\n      <td>COGNM410</td>\n      <td>4.10</td>\n      <td>0.47 (-0.20)</td>\n      <td>0.13 MM  (+0.13)</td>\n      <td>0.12 MM  (+0.09)</td>\n      <td>0.26 MM  (+0.22)</td>\n      <td>8</td>\n      <td>17</td>\n    </tr>\n    <tr>\n      <th>6</th>\n      <td>COGNM420</td>\n      <td>4.20</td>\n      <td>0.35 (-0.07)</td>\n      <td>0.58 MM  (-0.19)</td>\n      <td>0.90 MM  (+0.01)</td>\n      <td>1.47 MM  (-0.18)</td>\n      <td>46</td>\n      <td>133</td>\n    </tr>\n    <tr>\n      <th>7</th>\n      <td>COGNM430</td>\n      <td>4.30</td>\n      <td>0.18 (0.00)</td>\n      <td>0.67 MM  (+0.19)</td>\n      <td>0.04 MM  (-0.20)</td>\n      <td>0.71 MM  (-0.01)</td>\n      <td>31</td>\n      <td>177</td>\n    </tr>\n    <tr>\n      <th>8</th>\n      <td>COGNM440</td>\n      <td>4.40</td>\n      <td>0.16 (0.03)</td>\n      <td>1.18 MM  (+0.35)</td>\n      <td>0.51 MM  (-0.06)</td>\n      <td>1.69 MM  (+0.30)</td>\n      <td>35</td>\n      <td>225</td>\n    </tr>\n    <tr>\n      <th>9</th>\n      <td>COGNM450</td>\n      <td>4.50</td>\n      <td>0.14 (-0.02)</td>\n      <td>1.26 MM  (+0.21)</td>\n      <td>0.44 MM  (+0.16)</td>\n      <td>1.71 MM  (+0.37)</td>\n      <td>43</td>\n      <td>306</td>\n    </tr>\n    <tr>\n      <th>10</th>\n      <td>COGNM460</td>\n      <td>4.60</td>\n      <td>0.10 (-0.02)</td>\n      <td>1.41 MM  (+0.23)</td>\n      <td>1.03 MM  (+0.11)</td>\n      <td>2.44 MM  (+0.34)</td>\n      <td>31</td>\n      <td>297</td>\n    </tr>\n    <tr>\n      <th>11</th>\n      <td>COGNM470</td>\n      <td>4.70</td>\n      <td>0.10 (-0.03)</td>\n      <td>0.87 MM  (+0.05)</td>\n      <td>2.52 MM  (-0.29)</td>\n      <td>3.39 MM  (-0.24)</td>\n      <td>28</td>\n      <td>275</td>\n    </tr>\n    <tr>\n      <th>12</th>\n      <td>COGNM480</td>\n      <td>4.80</td>\n      <td>0.08 (-0.01)</td>\n      <td>2.20 MM  (+0.03)</td>\n      <td>0.95 MM  (-0.15)</td>\n      <td>3.15 MM  (-0.12)</td>\n      <td>29</td>\n      <td>373</td>\n    </tr>\n    <tr>\n      <th>13</th>\n      <td>COGNM490</td>\n      <td>4.90</td>\n      <td>0.09 (-0.02)</td>\n      <td>3.49 MM  (+0.02)</td>\n      <td>1.60 MM  (+0.35)</td>\n      <td>5.09 MM  (+0.37)</td>\n      <td>25</td>\n      <td>287</td>\n    </tr>\n    <tr>\n      <th>14</th>\n      <td>COGNM500</td>\n      <td>5.00</td>\n      <td>0.07 (-0.01)</td>\n      <td>4.09 MM  (+0.16)</td>\n      <td>2.36 MM  (+0.84)</td>\n      <td>6.45 MM  (+1.00)</td>\n      <td>39</td>\n      <td>597</td>\n    </tr>\n    <tr>\n      <th>15</th>\n      <td>COGNM510</td>\n      <td>5.10</td>\n      <td>0.25 (-0.25)</td>\n      <td>0.03 MM  (+0.03)</td>\n      <td>0.02 MM  (-0.02)</td>\n      <td>0.05 MM  (+0.01)</td>\n      <td>1</td>\n      <td>4</td>\n    </tr>\n    <tr>\n      <th>16</th>\n      <td>COGNM520</td>\n      <td>5.20</td>\n      <td>0.09 (0.01)</td>\n      <td>2.10 MM  (+0.02)</td>\n      <td>1.10 MM  (-0.08)</td>\n      <td>3.20 MM  (-0.06)</td>\n      <td>21</td>\n      <td>244</td>\n    </tr>\n    <tr>\n      <th>17</th>\n      <td>COGNM530</td>\n      <td>5.30</td>\n      <td>0.14 (0.03)</td>\n      <td>0.08 MM  (+0.01)</td>\n      <td>0.08 MM  (-0.02)</td>\n      <td>0.16 MM  (-0.01)</td>\n      <td>4</td>\n      <td>29</td>\n    </tr>\n    <tr>\n      <th>18</th>\n      <td>COGNM540</td>\n      <td>5.40</td>\n      <td>0.09 (0.00)</td>\n      <td>1.75 MM  (+0.00)</td>\n      <td>1.03 MM  (+0.00)</td>\n      <td>2.78 MM  (+0.00)</td>\n      <td>19</td>\n      <td>203</td>\n    </tr>\n    <tr>\n      <th>19</th>\n      <td>COGNM550</td>\n      <td>5.50</td>\n      <td>0.21 (0.02)</td>\n      <td>0.15 MM  (+0.02)</td>\n      <td>0.11 MM  (+0.01)</td>\n      <td>0.26 MM  (+0.03)</td>\n      <td>4</td>\n      <td>19</td>\n    </tr>\n    <tr>\n      <th>20</th>\n      <td>COGNM560</td>\n      <td>5.60</td>\n      <td>0.08 (-0.02)</td>\n      <td>0.70 MM  (+0.05)</td>\n      <td>0.09 MM  (+0.00)</td>\n      <td>0.79 MM  (+0.05)</td>\n      <td>7</td>\n      <td>92</td>\n    </tr>\n    <tr>\n      <th>21</th>\n      <td>COGNM580</td>\n      <td>5.80</td>\n      <td>0.08 (0.00)</td>\n      <td>0.86 MM  (+0.01)</td>\n      <td>0.28 MM  (+0.00)</td>\n      <td>1.15 MM  (+0.01)</td>\n      <td>9</td>\n      <td>113</td>\n    </tr>\n    <tr>\n      <th>22</th>\n      <td>COGNM590</td>\n      <td>5.90</td>\n      <td>0.67 (-0.33)</td>\n      <td>0.00 MM  (+0.00)</td>\n      <td>0.06 MM  (+0.06)</td>\n      <td>0.07 MM  (+0.06)</td>\n      <td>2</td>\n      <td>3</td>\n    </tr>\n    <tr>\n      <th>23</th>\n      <td>COGNM600</td>\n      <td>6.00</td>\n      <td>0.03 (-0.01)</td>\n      <td>1.54 MM  (+0.04)</td>\n      <td>0.28 MM  (-0.03)</td>\n      <td>1.82 MM  (+0.01)</td>\n      <td>15</td>\n      <td>489</td>\n    </tr>\n    <tr>\n      <th>24</th>\n      <td>COGNM620</td>\n      <td>6.20</td>\n      <td>0.29 (0.00)</td>\n      <td>0.14 MM  (+0.00)</td>\n      <td>0.00 MM  (+0.00)</td>\n      <td>0.14 MM  (+0.00)</td>\n      <td>4</td>\n      <td>14</td>\n    </tr>\n    <tr>\n      <th>25</th>\n      <td>COGNM630</td>\n      <td>6.30</td>\n      <td>1.00 (0.00)</td>\n      <td>0.00 MM  (+0.00)</td>\n      <td>0.00 MM  (+0.00)</td>\n      <td>0.00 MM  (+0.00)</td>\n      <td>1</td>\n      <td>1</td>\n    </tr>\n    <tr>\n      <th>26</th>\n      <td>COGNM640</td>\n      <td>6.40</td>\n      <td>0.06 (0.00)</td>\n      <td>0.41 MM  (-0.04)</td>\n      <td>0.05 MM  (+0.00)</td>\n      <td>0.46 MM  (-0.03)</td>\n      <td>6</td>\n      <td>94</td>\n    </tr>\n    <tr>\n      <th>27</th>\n      <td>COGNM650</td>\n      <td>6.50</td>\n      <td>0.27 (0.00)</td>\n      <td>0.10 MM  (+0.00)</td>\n      <td>0.00 MM  (+0.00)</td>\n      <td>0.10 MM  (+0.00)</td>\n      <td>3</td>\n      <td>11</td>\n    </tr>\n    <tr>\n      <th>28</th>\n      <td>COGNM660</td>\n      <td>6.60</td>\n      <td>0.22 (0.00)</td>\n      <td>0.03 MM  (+0.00)</td>\n      <td>0.00 MM  (+0.00)</td>\n      <td>0.03 MM  (+0.00)</td>\n      <td>2</td>\n      <td>9</td>\n    </tr>\n    <tr>\n      <th>29</th>\n      <td>COGNM670</td>\n      <td>6.70</td>\n      <td>0.67 (0.00)</td>\n      <td>0.01 MM  (+0.00)</td>\n      <td>0.00 MM  (+0.00)</td>\n      <td>0.01 MM  (+0.00)</td>\n      <td>2</td>\n      <td>3</td>\n    </tr>\n    <tr>\n      <th>30</th>\n      <td>COGNM680</td>\n      <td>6.80</td>\n      <td>0.25 (0.00)</td>\n      <td>0.09 MM  (+0.00)</td>\n      <td>0.00 MM  (+0.00)</td>\n      <td>0.09 MM  (+0.00)</td>\n      <td>3</td>\n      <td>12</td>\n    </tr>\n    <tr>\n      <th>31</th>\n      <td>COGNM700</td>\n      <td>7.00</td>\n      <td>0.03 (0.00)</td>\n      <td>1.87 MM  (-0.02)</td>\n      <td>0.66 MM  (-0.00)</td>\n      <td>2.53 MM  (-0.03)</td>\n      <td>11</td>\n      <td>325</td>\n    </tr>\n    <tr>\n      <th>32</th>\n      <td>COGNM720</td>\n      <td>7.20</td>\n      <td>1.00 (0.00)</td>\n      <td>0.00 MM  (+0.00)</td>\n      <td>0.00 MM  (+0.00)</td>\n      <td>0.00 MM  (+0.00)</td>\n      <td>1</td>\n      <td>1</td>\n    </tr>\n    <tr>\n      <th>33</th>\n      <td>COGNM750</td>\n      <td>7.50</td>\n      <td>0.04 (0.01)</td>\n      <td>0.55 MM  (+0.08)</td>\n      <td>0.01 MM  (-0.04)</td>\n      <td>0.56 MM  (+0.04)</td>\n      <td>4</td>\n      <td>94</td>\n    </tr>\n    <tr>\n      <th>34</th>\n      <td>COGNM760</td>\n      <td>7.60</td>\n      <td>0.14 (0.00)</td>\n      <td>0.03 MM  (+0.00)</td>\n      <td>0.01 MM  (+0.00)</td>\n      <td>0.05 MM  (+0.00)</td>\n      <td>1</td>\n      <td>7</td>\n    </tr>\n    <tr>\n      <th>35</th>\n      <td>COGNM800</td>\n      <td>8.00</td>\n      <td>0.02 (0.00)</td>\n      <td>1.27 MM  (+0.00)</td>\n      <td>1.04 MM  (-0.00)</td>\n      <td>2.30 MM  (+0.00)</td>\n      <td>5</td>\n      <td>208</td>\n    </tr>\n    <tr>\n      <th>36</th>\n      <td>COGNM840</td>\n      <td>8.40</td>\n      <td>0.03 (0.00)</td>\n      <td>0.67 MM  (+0.00)</td>\n      <td>0.24 MM  (+0.00)</td>\n      <td>0.91 MM  (+0.00)</td>\n      <td>3</td>\n      <td>96</td>\n    </tr>\n    <tr>\n      <th>37</th>\n      <td>COGNM880</td>\n      <td>8.80</td>\n      <td>0.07 (0.00)</td>\n      <td>0.10 MM  (+0.00)</td>\n      <td>0.09 MM  (+0.00)</td>\n      <td>0.19 MM  (+0.00)</td>\n      <td>2</td>\n      <td>30</td>\n    </tr>\n    <tr>\n      <th>38</th>\n      <td>COGNM890</td>\n      <td>8.90</td>\n      <td>0.23 (0.00)</td>\n      <td>5.06 MM  (-0.00)</td>\n      <td>0.03 MM  (+0.00)</td>\n      <td>5.10 MM  (+0.00)</td>\n      <td>7</td>\n      <td>31</td>\n    </tr>\n    <tr>\n      <th>39</th>\n      <td>COGNM900</td>\n      <td>9.00</td>\n      <td>0.17 (-0.08)</td>\n      <td>0.01 MM  (+0.00)</td>\n      <td>0.00 MM  (+0.00)</td>\n      <td>0.01 MM  (+0.00)</td>\n      <td>1</td>\n      <td>6</td>\n    </tr>\n    <tr>\n      <th>40</th>\n      <td>COGNM910</td>\n      <td>9.10</td>\n      <td>0.14 (0.00)</td>\n      <td>0.07 MM  (+0.00)</td>\n      <td>0.04 MM  (+0.00)</td>\n      <td>0.11 MM  (+0.00)</td>\n      <td>2</td>\n      <td>14</td>\n    </tr>\n    <tr>\n      <th>41</th>\n      <td>COGNM930</td>\n      <td>9.30</td>\n      <td>0.56 (0.00)</td>\n      <td>0.02 MM  (+0.00)</td>\n      <td>0.05 MM  (+0.00)</td>\n      <td>0.07 MM  (+0.00)</td>\n      <td>5</td>\n      <td>9</td>\n    </tr>\n    <tr>\n      <th>42</th>\n      <td>COGNM960</td>\n      <td>9.60</td>\n      <td>0.50 (0.00)</td>\n      <td>0.15 MM  (+0.00)</td>\n      <td>0.03 MM  (+0.00)</td>\n      <td>0.18 MM  (+0.00)</td>\n      <td>4</td>\n      <td>8</td>\n    </tr>\n    <tr>\n      <th>43</th>\n      <td>COGNM980</td>\n      <td>9.80</td>\n      <td>0.83 (0.00)</td>\n      <td>0.00 MM  (+0.00)</td>\n      <td>2.30 MM  (+0.00)</td>\n      <td>2.30 MM  (+0.00)</td>\n      <td>5</td>\n      <td>6</td>\n    </tr>\n    <tr>\n      <th>44</th>\n      <td>COGNM990</td>\n      <td>9.90</td>\n      <td>0.33 (0.00)</td>\n      <td>0.02 MM  (+0.00)</td>\n      <td>0.00 MM  (+0.00)</td>\n      <td>0.02 MM  (+0.00)</td>\n      <td>3</td>\n      <td>9</td>\n    </tr>\n    <tr>\n      <th>45</th>\n      <td>COGNM107</td>\n      <td>10.75</td>\n      <td>0.17 (0.00)</td>\n      <td>0.03 MM  (+0.00)</td>\n      <td>0.42 MM  (+0.00)</td>\n      <td>0.45 MM  (+0.00)</td>\n      <td>3</td>\n      <td>18</td>\n    </tr>\n    <tr>\n      <th>46</th>\n      <td>COGNM120</td>\n      <td>12.00</td>\n      <td>0.36 (0.00)</td>\n      <td>0.05 MM  (+0.00)</td>\n      <td>0.06 MM  (+0.00)</td>\n      <td>0.11 MM  (+0.00)</td>\n      <td>4</td>\n      <td>11</td>\n    </tr>\n  </tbody>\n</table>"
          },
          "metadata": {}
        }
      ]
    },
    {
      "cell_type": "markdown",
      "metadata": {
        "id": "G59l0pNHScvS"
      },
      "source": [
        "### Buscando o próximo vencimento"
      ]
    },
    {
      "cell_type": "code",
      "metadata": {
        "colab": {
          "base_uri": "https://localhost:8080/"
        },
        "id": "56qsnEPNMwk2",
        "outputId": "08687f20-73e5-4839-80be-006a4a46bda6"
      },
      "source": [
        "proximoVencimento = getDataVencimento(dataVencimento + timedelta(dataVencimento.day+1))\n",
        "print (\"Próximo vencimento é em: \", proximoVencimento.strftime(\"%d/%m/%Y\"))\n",
        "\n",
        "filtroEmpreVencProximo = makeFilter(proximoVencimento.strftime(\"%Y%m%d\"), empresa)\n",
        "\n",
        "dictJson = json.loads(jsonUltimoDia.text)\n",
        "lista = dictJson['Empresa'][empresa['letra']]\n",
        "opcoesUltimoDia = list(filter(filtroEmpreVencProximo, lista))\n",
        "\n",
        "dictJson = json.loads(jsonPenultimoDia.text)\n",
        "lista = dictJson['Empresa'][empresa['letra']]\n",
        "opcoesPenultimoDia = list(filter(filtroEmpreVencProximo, lista))"
      ],
      "execution_count": 33,
      "outputs": [
        {
          "output_type": "stream",
          "name": "stdout",
          "text": [
            "Próximo vencimento é em:  15/02/2021\n"
          ]
        }
      ]
    },
    {
      "cell_type": "code",
      "metadata": {
        "id": "VGGKGmyy4z7a"
      },
      "source": [
        "callsPVUltimoDia = pd.DataFrame(list(filter(filtraCalls, opcoesUltimoDia)))\n",
        "putsPVUltimoDia =  pd.DataFrame(list(filter(filtraPuts, opcoesUltimoDia)))\n",
        "\n",
        "callsPVPenultimoDia = pd.DataFrame(list(filter(filtraCalls, opcoesPenultimoDia)))\n",
        "putsPVPenultimoDia =  pd.DataFrame(list(filter(filtraPuts, opcoesPenultimoDia)))\n",
        "\n",
        "### convertendo o DF da B3 \n",
        "callsUltimoDiaProximoVencimento = extracaoOpcoes(callsPVUltimoDia)\n",
        "callsPenultimoDiaProximoVencimento = extracaoOpcoes(callsPVPenultimoDia)\n",
        "\n",
        "putsUltimoDiaProximoVencimento =  extracaoOpcoes(putsPVUltimoDia)\n",
        "putsPenultimoDiaProximoVencimento = extracaoOpcoes(putsPVPenultimoDia)"
      ],
      "execution_count": 34,
      "outputs": [
        {
          "output_type": "error",
          "ename": "ValueError",
          "evalue": "Length mismatch: Expected axis has 0 elements, new values have 13 elements",
          "traceback": [
            "\u001b[1;31m---------------------------------------------------------------------------\u001b[0m",
            "\u001b[1;31mValueError\u001b[0m                                Traceback (most recent call last)",
            "\u001b[1;32m<ipython-input-34-49f82069b546>\u001b[0m in \u001b[0;36m<module>\u001b[1;34m\u001b[0m\n\u001b[0;32m      6\u001b[0m \u001b[1;33m\u001b[0m\u001b[0m\n\u001b[0;32m      7\u001b[0m \u001b[1;31m### convertendo o DF da B3\u001b[0m\u001b[1;33m\u001b[0m\u001b[1;33m\u001b[0m\u001b[1;33m\u001b[0m\u001b[0m\n\u001b[1;32m----> 8\u001b[1;33m \u001b[0mcallsUltimoDiaProximoVencimento\u001b[0m \u001b[1;33m=\u001b[0m \u001b[0mextracaoOpcoes\u001b[0m\u001b[1;33m(\u001b[0m\u001b[0mcallsPVUltimoDia\u001b[0m\u001b[1;33m)\u001b[0m\u001b[1;33m\u001b[0m\u001b[1;33m\u001b[0m\u001b[0m\n\u001b[0m\u001b[0;32m      9\u001b[0m \u001b[0mcallsPenultimoDiaProximoVencimento\u001b[0m \u001b[1;33m=\u001b[0m \u001b[0mextracaoOpcoes\u001b[0m\u001b[1;33m(\u001b[0m\u001b[0mcallsPVPenultimoDia\u001b[0m\u001b[1;33m)\u001b[0m\u001b[1;33m\u001b[0m\u001b[1;33m\u001b[0m\u001b[0m\n\u001b[0;32m     10\u001b[0m \u001b[1;33m\u001b[0m\u001b[0m\n",
            "\u001b[1;32m<ipython-input-28-177a41aa720c>\u001b[0m in \u001b[0;36mextracaoOpcoes\u001b[1;34m(opts)\u001b[0m\n\u001b[0;32m      1\u001b[0m \u001b[1;32mdef\u001b[0m \u001b[0mextracaoOpcoes\u001b[0m\u001b[1;33m(\u001b[0m\u001b[0mopts\u001b[0m\u001b[1;33m)\u001b[0m\u001b[1;33m:\u001b[0m\u001b[1;33m\u001b[0m\u001b[1;33m\u001b[0m\u001b[0m\n\u001b[1;32m----> 2\u001b[1;33m   \u001b[0mopts\u001b[0m\u001b[1;33m.\u001b[0m\u001b[0mcolumns\u001b[0m \u001b[1;33m=\u001b[0m \u001b[1;33m[\u001b[0m\u001b[1;34m'serie'\u001b[0m\u001b[1;33m,\u001b[0m\u001b[1;34m'exercicio'\u001b[0m\u001b[1;33m,\u001b[0m\u001b[1;34m'empresa'\u001b[0m\u001b[1;33m,\u001b[0m\u001b[1;34m'coberto'\u001b[0m\u001b[1;33m,\u001b[0m\u001b[1;34m'descoberto'\u001b[0m\u001b[1;33m,\u001b[0m\u001b[1;34m'titulares'\u001b[0m\u001b[1;33m,\u001b[0m\u001b[1;34m'trava'\u001b[0m\u001b[1;33m,\u001b[0m\u001b[1;34m'total'\u001b[0m\u001b[1;33m,\u001b[0m\u001b[1;34m'lancadores'\u001b[0m\u001b[1;33m,\u001b[0m \u001b[1;34m'vencimento'\u001b[0m\u001b[1;33m,\u001b[0m \u001b[1;34m'tipoMercado'\u001b[0m\u001b[1;33m,\u001b[0m\u001b[1;34m'mer'\u001b[0m\u001b[1;33m,\u001b[0m\u001b[1;34m'espPap'\u001b[0m\u001b[1;33m]\u001b[0m\u001b[1;33m\u001b[0m\u001b[1;33m\u001b[0m\u001b[0m\n\u001b[0m\u001b[0;32m      3\u001b[0m   \u001b[0mopts\u001b[0m \u001b[1;33m=\u001b[0m \u001b[0mopts\u001b[0m\u001b[1;33m.\u001b[0m\u001b[0msort_values\u001b[0m\u001b[1;33m(\u001b[0m\u001b[0mby\u001b[0m\u001b[1;33m=\u001b[0m\u001b[1;33m[\u001b[0m\u001b[1;34m'exercicio'\u001b[0m\u001b[1;33m]\u001b[0m\u001b[1;33m)\u001b[0m\u001b[1;33m\u001b[0m\u001b[1;33m\u001b[0m\u001b[0m\n\u001b[0;32m      4\u001b[0m \u001b[1;33m\u001b[0m\u001b[0m\n\u001b[0;32m      5\u001b[0m   \u001b[0mhashMap\u001b[0m \u001b[1;33m=\u001b[0m \u001b[1;33m{\u001b[0m\u001b[1;33m}\u001b[0m\u001b[1;33m\u001b[0m\u001b[1;33m\u001b[0m\u001b[0m\n",
            "\u001b[1;32mC:\\ProgramData\\Anaconda3\\lib\\site-packages\\pandas\\core\\generic.py\u001b[0m in \u001b[0;36m__setattr__\u001b[1;34m(self, name, value)\u001b[0m\n\u001b[0;32m   5285\u001b[0m         \u001b[1;32mtry\u001b[0m\u001b[1;33m:\u001b[0m\u001b[1;33m\u001b[0m\u001b[1;33m\u001b[0m\u001b[0m\n\u001b[0;32m   5286\u001b[0m             \u001b[0mobject\u001b[0m\u001b[1;33m.\u001b[0m\u001b[0m__getattribute__\u001b[0m\u001b[1;33m(\u001b[0m\u001b[0mself\u001b[0m\u001b[1;33m,\u001b[0m \u001b[0mname\u001b[0m\u001b[1;33m)\u001b[0m\u001b[1;33m\u001b[0m\u001b[1;33m\u001b[0m\u001b[0m\n\u001b[1;32m-> 5287\u001b[1;33m             \u001b[1;32mreturn\u001b[0m \u001b[0mobject\u001b[0m\u001b[1;33m.\u001b[0m\u001b[0m__setattr__\u001b[0m\u001b[1;33m(\u001b[0m\u001b[0mself\u001b[0m\u001b[1;33m,\u001b[0m \u001b[0mname\u001b[0m\u001b[1;33m,\u001b[0m \u001b[0mvalue\u001b[0m\u001b[1;33m)\u001b[0m\u001b[1;33m\u001b[0m\u001b[1;33m\u001b[0m\u001b[0m\n\u001b[0m\u001b[0;32m   5288\u001b[0m         \u001b[1;32mexcept\u001b[0m \u001b[0mAttributeError\u001b[0m\u001b[1;33m:\u001b[0m\u001b[1;33m\u001b[0m\u001b[1;33m\u001b[0m\u001b[0m\n\u001b[0;32m   5289\u001b[0m             \u001b[1;32mpass\u001b[0m\u001b[1;33m\u001b[0m\u001b[1;33m\u001b[0m\u001b[0m\n",
            "\u001b[1;32mpandas\\_libs\\properties.pyx\u001b[0m in \u001b[0;36mpandas._libs.properties.AxisProperty.__set__\u001b[1;34m()\u001b[0m\n",
            "\u001b[1;32mC:\\ProgramData\\Anaconda3\\lib\\site-packages\\pandas\\core\\generic.py\u001b[0m in \u001b[0;36m_set_axis\u001b[1;34m(self, axis, labels)\u001b[0m\n\u001b[0;32m    659\u001b[0m \u001b[1;33m\u001b[0m\u001b[0m\n\u001b[0;32m    660\u001b[0m     \u001b[1;32mdef\u001b[0m \u001b[0m_set_axis\u001b[0m\u001b[1;33m(\u001b[0m\u001b[0mself\u001b[0m\u001b[1;33m,\u001b[0m \u001b[0maxis\u001b[0m\u001b[1;33m,\u001b[0m \u001b[0mlabels\u001b[0m\u001b[1;33m)\u001b[0m \u001b[1;33m->\u001b[0m \u001b[1;32mNone\u001b[0m\u001b[1;33m:\u001b[0m\u001b[1;33m\u001b[0m\u001b[1;33m\u001b[0m\u001b[0m\n\u001b[1;32m--> 661\u001b[1;33m         \u001b[0mself\u001b[0m\u001b[1;33m.\u001b[0m\u001b[0m_data\u001b[0m\u001b[1;33m.\u001b[0m\u001b[0mset_axis\u001b[0m\u001b[1;33m(\u001b[0m\u001b[0maxis\u001b[0m\u001b[1;33m,\u001b[0m \u001b[0mlabels\u001b[0m\u001b[1;33m)\u001b[0m\u001b[1;33m\u001b[0m\u001b[1;33m\u001b[0m\u001b[0m\n\u001b[0m\u001b[0;32m    662\u001b[0m         \u001b[0mself\u001b[0m\u001b[1;33m.\u001b[0m\u001b[0m_clear_item_cache\u001b[0m\u001b[1;33m(\u001b[0m\u001b[1;33m)\u001b[0m\u001b[1;33m\u001b[0m\u001b[1;33m\u001b[0m\u001b[0m\n\u001b[0;32m    663\u001b[0m \u001b[1;33m\u001b[0m\u001b[0m\n",
            "\u001b[1;32mC:\\ProgramData\\Anaconda3\\lib\\site-packages\\pandas\\core\\internals\\managers.py\u001b[0m in \u001b[0;36mset_axis\u001b[1;34m(self, axis, new_labels)\u001b[0m\n\u001b[0;32m    176\u001b[0m         \u001b[1;32mif\u001b[0m \u001b[0mnew_len\u001b[0m \u001b[1;33m!=\u001b[0m \u001b[0mold_len\u001b[0m\u001b[1;33m:\u001b[0m\u001b[1;33m\u001b[0m\u001b[1;33m\u001b[0m\u001b[0m\n\u001b[0;32m    177\u001b[0m             raise ValueError(\n\u001b[1;32m--> 178\u001b[1;33m                 \u001b[1;34mf\"Length mismatch: Expected axis has {old_len} elements, new \"\u001b[0m\u001b[1;33m\u001b[0m\u001b[1;33m\u001b[0m\u001b[0m\n\u001b[0m\u001b[0;32m    179\u001b[0m                 \u001b[1;34mf\"values have {new_len} elements\"\u001b[0m\u001b[1;33m\u001b[0m\u001b[1;33m\u001b[0m\u001b[0m\n\u001b[0;32m    180\u001b[0m             )\n",
            "\u001b[1;31mValueError\u001b[0m: Length mismatch: Expected axis has 0 elements, new values have 13 elements"
          ]
        }
      ]
    },
    {
      "cell_type": "markdown",
      "metadata": {
        "id": "D_qICIFW9tyS"
      },
      "source": [
        "# CALLS DO PRÓXIMO VENCIMENTO"
      ]
    },
    {
      "cell_type": "code",
      "metadata": {
        "colab": {
          "base_uri": "https://localhost:8080/",
          "height": 1000
        },
        "id": "eg33Gw8i8QeI",
        "outputId": "65f849be-b772-473d-cea6-e4c113f47c89"
      },
      "source": [
        "dados = montaTabela(callsPenultimoDiaProximoVencimento, callsUltimoDiaProximoVencimento)\n",
        "dfIQ = pd.DataFrame(dados, columns=['Código', 'Strike', 'IQ', 'Descobertas', 'Travadas' ,'Total', 'Titulares', 'Lançadores'])\n",
        "#display(HTML(dfIQ[1:60].to_html()))\n",
        "len(dfIQ)\n",
        "\n",
        "row = (callMes + 1)\n",
        "for j in dfIQ['Código']:\n",
        "    row = row + 1 \n",
        "    sheet.cell(row = row,column=1).value=j\n",
        "sheet['A1'] = 'Codigo'  \n",
        "row = (callMes + 1)\n",
        "for j in dfIQ['Strike']:\n",
        "    row = row + 1 \n",
        "    sheet.cell(row = row,column=2).value=j\n",
        "sheet['B1'] = 'Strike'\n",
        "row = (callMes + 1)\n",
        "for j in dfIQ['Descobertas']:\n",
        "    row = row + 1 \n",
        "    sheet.cell(row = row,column=3).value=j\n",
        "sheet['C1'] = 'Descobertas'\n",
        "row = (callMes + 1)\n",
        "for j in dfIQ['Titulares']:\n",
        "    row = row + 1 \n",
        "    sheet.cell(row = row,column=4).value=j\n",
        "sheet['D1'] = 'Titulares'\n",
        "row = (callMes + 1)\n",
        "for j in dfIQ['Lançadores']:\n",
        "    row = row + 1 \n",
        "    sheet.cell(row = row,column=5).value=j\n",
        "sheet['E1'] = 'Lançadores'"
      ],
      "execution_count": 23,
      "outputs": []
    },
    {
      "cell_type": "code",
      "execution_count": 24,
      "metadata": {},
      "outputs": [],
      "source": [
        "workbook.save('BD_opcoes.xlsx')"
      ]
    },
    {
      "cell_type": "markdown",
      "metadata": {
        "id": "Py2b7H-dACrZ"
      },
      "source": [
        "# PUTS DO PRÓXIMO VENCIMENTO"
      ]
    },
    {
      "cell_type": "code",
      "metadata": {
        "colab": {
          "base_uri": "https://localhost:8080/",
          "height": 677
        },
        "id": "PeC2V_Qx8bqH",
        "outputId": "bd658579-dd14-4dd6-8af0-bfa4d65723ba"
      },
      "source": [
        "dados = montaTabela(putsPenultimoDiaProximoVencimento, putsUltimoDiaProximoVencimento)\n",
        "dfIQ = pd.DataFrame(dados, columns=['Código', 'Strike', 'IQ', 'Descobertas', 'Travadas', 'Total', 'Titulares', 'Lançadores'])\n",
        "#display(HTML(dfIQ[1:60].to_html()))\n",
        "len(dfIQ)"
      ],
      "execution_count": 20,
      "outputs": [
        {
          "output_type": "execute_result",
          "data": {
            "text/plain": [
              "81"
            ]
          },
          "metadata": {},
          "execution_count": 20
        }
      ]
    },
    {
      "cell_type": "code",
      "execution_count": null,
      "metadata": {},
      "outputs": [],
      "source": []
    }
  ]
}