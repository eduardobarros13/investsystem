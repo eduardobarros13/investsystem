{
  "nbformat": 4,
  "nbformat_minor": 0,
  "metadata": {
    "colab": {
      "name": "IQ.ipynb",
      "provenance": [],
      "collapsed_sections": [],
      "include_colab_link": true
    },
    "kernelspec": {
      "display_name": "Python 3",
      "name": "python3",
      "language": "python"
    }
  },
  "cells": [
    {
      "cell_type": "markdown",
      "metadata": {
        "id": "view-in-github",
        "colab_type": "text"
      },
      "source": [
        "<a href=\"https://colab.research.google.com/github/eduardobarros13/investsystem/blob/master/IQ.ipynb\" target=\"_parent\"><img src=\"https://colab.research.google.com/assets/colab-badge.svg\" alt=\"Open In Colab\"/></a>"
      ]
    },
    {
      "cell_type": "code",
      "metadata": {
        "id": "6bYApbFj8uwq"
      },
      "source": [
        "import datetime\n",
        "from datetime import date\n",
        "from datetime import timedelta\n",
        "import pandas as pd\n",
        "from IPython.display import display, HTML\n",
        "from bs4 import BeautifulSoup\n",
        "import requests\n",
        "import json\n",
        "import plotly.graph_objects as go\n",
        "import matplotlib\n",
        "import matplotlib.pyplot as plt\n",
        "import numpy as np\n",
        "%matplotlib inline"
      ],
      "execution_count": 1,
      "outputs": []
    },
    {
      "cell_type": "code",
      "metadata": {
        "id": "5upcM0oJOVdk"
      },
      "source": [
        "feriados = {}\n",
        "feriados[datetime.datetime(2020, 2, 24).strftime(\"%d/%m/%Y\")] = True\n",
        "feriados[datetime.datetime(2020, 2, 25).strftime(\"%d/%m/%Y\")] = True\n",
        "feriados[datetime.datetime(2020, 4, 10).strftime(\"%d/%m/%Y\")] = True\n",
        "feriados[datetime.datetime(2020, 4, 21).strftime(\"%d/%m/%Y\")] = True\n",
        "feriados[datetime.datetime(2020, 5, 1).strftime(\"%d/%m/%Y\")] = True\n",
        "feriados[datetime.datetime(2020, 7, 17).strftime(\"%d/%m/%Y\")] = True\n",
        "feriados[datetime.datetime(2020, 9, 7).strftime(\"%d/%m/%Y\")] = True\n",
        "feriados[datetime.datetime(2020, 10, 12).strftime(\"%d/%m/%Y\")] = True\n",
        "feriados[datetime.datetime(2020, 11, 2).strftime(\"%d/%m/%Y\")] = True"
      ],
      "execution_count": 2,
      "outputs": []
    },
    {
      "cell_type": "markdown",
      "metadata": {
        "id": "E5kMnbF8uOjL"
      },
      "source": [
        "### ESCOLHER A AÇÃO PRINCIPAL"
      ]
    },
    {
      "cell_type": "code",
      "metadata": {
        "id": "j-PbiqGAnlRq"
      },
      "source": [
        "petro = {\"nome\": \"PETROLEO BRASILEIRO S.A. PETROBRAS\", \"ticker\":'PETR4', \"letra\": \"P\", \"tipo\":\"PN\", \"aluguel\":\"PETROLEO%20BRASIL\"}\n",
        "vara = {\"nome\": \"VIA VAREJO S.A.\", \"ticker\":'VVAR3', \"letra\": \"V\", \"tipo\":\"ON\"}\n",
        "itub = {\"nome\": \"ITAU UNIBANCO HOLDING S.A.\",\"ticker\":'ITUB4', \"letra\": \"I\", \"tipo\":\"PN\"}\n",
        "bradesco = {\"nome\": \"BCO BRADESCO S.A.\",\"ticker\":'BBDC4', \"letra\": \"B\", \"tipo\":\"PN\"}\n",
        "bb = {\"nome\": \"BCO BRASIL S.A.\", \"ticker\":'BBAS3',\"letra\": \"B\", \"tipo\":\"ON\"}\n",
        "conga = {\"nome\": \"COGNA\", \"ticker\":'COGN3',\"letra\": \"C\", \"tipo\":\"ON\"}\n",
        "irb = {\"nome\": \"IRB\", \"ticker\":'IRBR3',\"letra\": \"I\", \"tipo\":\"ON\"}\n",
        "vale = {\"nome\": \"VALE\", \"ticker\":'VALE3',\"letra\": \"V\", \"tipo\":\"ON\"}\n",
        "empresa = petro"
      ],
      "execution_count": 3,
      "outputs": []
    },
    {
      "cell_type": "markdown",
      "metadata": {
        "id": "02WbveFr835z"
      },
      "source": [
        "### Funções"
      ]
    },
    {
      "cell_type": "code",
      "metadata": {
        "id": "5N283Ujj86d7"
      },
      "source": [
        "def isFeriado(data):\n",
        "  return feriados.get(data.strftime(\"%d/%m/%Y\"))\n",
        "\n",
        "##### Calcula a data de vencimento do próximo strike\n",
        "def getDataVencimento(data):\n",
        "    dia1Mes = data - timedelta(data.day-1)\n",
        "    weekDay1 = dia1Mes.weekday()\n",
        "    \n",
        "    contador = 0\n",
        "    diaVencimento = 0\n",
        "    \n",
        "    while(contador < 3):\n",
        "        diaVencimento += 1        \n",
        "        if(weekDay1 % 7) == 0:\n",
        "            contador += 1\n",
        "            \n",
        "        weekDay1 +=1\n",
        "        \n",
        "    return data.replace(day=diaVencimento)\n",
        "\n",
        "##### Pega o dia de negociação anterior\n",
        "def getDiaDeNegociacaoAnterior(dataReferencia):\n",
        "  diaAnterior = dataReferencia - datetime.timedelta(days=1)\n",
        "  feriado = isFeriado(diaAnterior)\n",
        "  sabado = diaAnterior.weekday() == 5\n",
        "  domingo = diaAnterior.weekday() == 6\n",
        "\n",
        "  if(feriado or sabado or domingo):\n",
        "    return getDiaDeNegociacaoAnterior(diaAnterior)\n",
        "  else :\n",
        "    return diaAnterior\n",
        "\n",
        "\n",
        "##### Monta a URL de CONSULTA de opções\n",
        "def getUrlConsulta(dataConsulta):\n",
        "    dataConsulta = dataConsulta.strftime(\"%Y%m%d\")\n",
        "    \n",
        "    url = \"http://www.b3.com.br/json/\"\n",
        "    url += dataConsulta\n",
        "    url += \"/Posicoes/Empresa/SI_C_OPCPOSABEMP.json\" \n",
        "\n",
        "    return url\n",
        "\n",
        "def montaTabela(callsPenultimoDia, callsUltimoDia):\n",
        "  dados = []\n",
        "  for opcao in callsPenultimoDia:\n",
        "\n",
        "    ultimo = callsUltimoDia.get(opcao)\n",
        "    penultimo = callsPenultimoDia.get(opcao)\n",
        "    if(not ultimo) or (not penultimo):\n",
        "      continue\n",
        "\n",
        "    #[0-codigo, 1-strike, 2-iq, 3-descobertos, 4-total, 5-titular, 6-lancador]\n",
        "    \n",
        "    diferencaIQ = ultimo[2] - penultimo[2]\n",
        "    \n",
        "    IQ = \"%1.2f (%1.2f)\" % (ultimo[2], diferencaIQ)\n",
        "\n",
        "\n",
        "    #DESCOBERTAS\n",
        "    descobertas = \"%1.2f MM \" % (ultimo[3]/1000000)\n",
        "    descobertas = descobertas.rjust(4, \" \")\n",
        "\n",
        "    difDescobertas = (ultimo[3] - penultimo[3])/1000000\n",
        "    difDescobertas = \"%1.2f\" % difDescobertas\n",
        "    difDescobertas = difDescobertas.rjust(5, \"+\")\n",
        "    \n",
        "    descobertas = descobertas + \" (\" + difDescobertas + \")\"\n",
        "\n",
        "\n",
        "    #TRAVADAS\n",
        "    travadas = \"%1.2f MM \" % (ultimo[4]/1000000)\n",
        "    travadas = travadas.rjust(4, \" \")\n",
        "\n",
        "    difTravadas = (ultimo[4] - penultimo[4])/1000000\n",
        "    difTravadas = \"%1.2f\" % difTravadas\n",
        "    difTravadas = difTravadas.rjust(5, \"+\")\n",
        "\n",
        "    travadas = travadas +  \" (\" + difTravadas + \")\"\n",
        "\n",
        "    total = \"%1.2f MM \" % (ultimo[5]/1000000)\n",
        "    total = total.rjust(4, \" \")\n",
        "\n",
        "    difTotal = (ultimo[5] - penultimo[5])/1000000\n",
        "    difTotal = \"%1.2f\" % difTotal\n",
        "    difTotal = difTotal.rjust(5, \"+\")\n",
        "\n",
        "    total = total + \" (\" + difTotal + \")\"\n",
        "\n",
        "    ##print(\"%8s - R$ %s - IQ:%s - V Descobertas: %s MM - TOTAL %s - Compradores: %s - Lançadores %s\" %(ultimo[0], ultimo[1], IQ, descobertas, total, ultimo[5], ultimo[6]))\n",
        "    ##arquivo.write(\"%s - R$ %s - IQ:%1.2f (%s) - V Descobertas: %s (%s) MM - Compradores: %d\\n\" %(ticker, strike, opcao[2], diferenca, descobertas, diferencaDescobertas, opcao[4]))\n",
        "\n",
        "    dados.append([ultimo[0], ultimo[1], IQ, descobertas, travadas, total , int(ultimo[6]), int(ultimo[7])])\n",
        "\n",
        "  return dados\n"
      ],
      "execution_count": 4,
      "outputs": []
    },
    {
      "cell_type": "markdown",
      "metadata": {
        "id": "LovUbcsoDv3y"
      },
      "source": [
        "### Pega a data do vencimento e os dois últimos dias de negociação"
      ]
    },
    {
      "cell_type": "code",
      "metadata": {
        "colab": {
          "base_uri": "https://localhost:8080/"
        },
        "id": "UlYZVpx1-rbS",
        "outputId": "76bb61ee-b612-4e4a-f045-c8f1ea0bad40"
      },
      "source": [
        "#Data de consulta de hoje e url\n",
        "hoje =  date.today()\n",
        "print (\"Hoje é\", hoje.strftime(\"%d/%m/%Y\"))\n",
        "\n",
        "#atrasando um dia por causa da B3\n",
        "#deltaDias = datetime.timedelta(days=1)\n",
        "#hoje = hoje - deltaDias\n",
        "\n",
        "\n",
        "dataVencimento = getDataVencimento(hoje)\n",
        "if (dataVencimento <= hoje):\n",
        "    diaMesQueVem = hoje + datetime.timedelta(days=30)\n",
        "    dataVencimento = getDataVencimento(diaMesQueVem)"
      ],
      "execution_count": 5,
      "outputs": [
        {
          "output_type": "stream",
          "name": "stdout",
          "text": [
            "Hoje é 10/12/2020\n"
          ]
        }
      ]
    },
    {
      "cell_type": "code",
      "metadata": {
        "colab": {
          "base_uri": "https://localhost:8080/"
        },
        "id": "bebcricydTr9",
        "outputId": "977df304-bf28-441c-ce79-fcce3215ee8f"
      },
      "source": [
        "vencimento = dataVencimento.strftime(\"%d/%m/%Y\")\n",
        "print(\"Vencimento: {}\".format(vencimento))"
      ],
      "execution_count": 6,
      "outputs": [
        {
          "output_type": "stream",
          "name": "stdout",
          "text": [
            "Vencimento: 21/12/2020\n"
          ]
        }
      ]
    },
    {
      "cell_type": "code",
      "metadata": {
        "colab": {
          "base_uri": "https://localhost:8080/"
        },
        "id": "2HpoJJcmdQd4",
        "outputId": "1caa0c18-24af-499a-f006-fbc2848ec462"
      },
      "source": [
        "ultimoDiaUtil = getDiaDeNegociacaoAnterior(hoje)\n",
        "dataConsulta = ultimoDiaUtil.strftime(\"%d/%m/%Y\") \n",
        "print(\"Data do último dia de negociação: {}\".format(dataConsulta))\n",
        "\n",
        "urlUltimoDia = getUrlConsulta(ultimoDiaUtil)\n",
        "print (urlUltimoDia)\n",
        "print ()\n",
        "\n",
        "#Data de consulta de ontem url\n",
        "deltaDias = datetime.timedelta(days=1)\n",
        "ontem = hoje - deltaDias\n",
        "\n",
        "penultimoDiaUtil = getDiaDeNegociacaoAnterior(ultimoDiaUtil) \n",
        "\n",
        "penultimaDataConsulta = penultimoDiaUtil.strftime(\"%d/%m/%Y\") \n",
        "print(\"Data do peníltimo dia negociação: {}\".format(penultimaDataConsulta))\n",
        "\n",
        "urlPenultimoDiaUtil = getUrlConsulta(penultimoDiaUtil)\n",
        "print (urlPenultimoDiaUtil)\n"
      ],
      "execution_count": 7,
      "outputs": [
        {
          "output_type": "stream",
          "name": "stdout",
          "text": [
            "Data do último dia de negociação: 09/12/2020\nhttp://www.b3.com.br/json/20201209/Posicoes/Empresa/SI_C_OPCPOSABEMP.json\n\nData do peníltimo dia negociação: 08/12/2020\nhttp://www.b3.com.br/json/20201208/Posicoes/Empresa/SI_C_OPCPOSABEMP.json\n"
          ]
        }
      ]
    },
    {
      "cell_type": "markdown",
      "metadata": {
        "id": "-ohaDqi0ETSF"
      },
      "source": [
        "### Busca os JSONs dos dois últimos dias e monta as listas"
      ]
    },
    {
      "cell_type": "code",
      "metadata": {
        "id": "Ol2XtyOv1RAB"
      },
      "source": [
        "jsonUltimoDia = requests.get(urlUltimoDia)\n",
        "jsonPenultimoDia = requests.get(urlPenultimoDiaUtil)"
      ],
      "execution_count": 8,
      "outputs": []
    },
    {
      "cell_type": "code",
      "metadata": {
        "id": "T58HP0GCUwXi"
      },
      "source": [
        "def makeFilter(dataVencimento, empresa):\n",
        "  def filtraOpcoes(item):\n",
        "    isVencimento = (item['dtVen'] == dataVencimento)\n",
        "    isEmpresa = (item['mer'] == empresa[\"ticker\"][:4])\n",
        "    isPN = ( empresa['tipo'] in item['espPap'] )\n",
        "\n",
        "    if isVencimento and isEmpresa and isPN :\n",
        "      return True\n",
        "    return False\n",
        "  \n",
        "  return filtraOpcoes\n",
        "\n",
        "def filtraCalls(item):\n",
        "  isCall = (item['ser'][4] < 'M')\n",
        "  if isCall:\n",
        "    return True\n",
        "  return False\n",
        "\n",
        "def filtraPuts(item):\n",
        "  isPut = (item['ser'][4] >= 'M')\n",
        "  if isPut:\n",
        "    return True\n",
        "  return False\n",
        "\n",
        "filtroEmpreVenc = makeFilter(dataVencimento.strftime(\"%Y%m%d\"), empresa)\n",
        "\n",
        "dictJson = json.loads(jsonUltimoDia.text)\n",
        "lista = dictJson['Empresa'][empresa['letra']]\n",
        "opcoesUltimoDia = list(filter(filtroEmpreVenc, lista))\n",
        "\n",
        "dictJson = json.loads(jsonPenultimoDia.text)\n",
        "lista = dictJson['Empresa'][empresa['letra']]\n",
        "opcoesPenultimoDia = list(filter(filtroEmpreVenc, lista))"
      ],
      "execution_count": 9,
      "outputs": []
    },
    {
      "cell_type": "markdown",
      "metadata": {
        "id": "mQjpflkFh0py"
      },
      "source": [
        "### Separando calls e puts em DataFrame"
      ]
    },
    {
      "cell_type": "code",
      "metadata": {
        "id": "7bU_HpURhyKT"
      },
      "source": [
        "callsUltimoDia = pd.DataFrame(list(filter(filtraCalls, opcoesUltimoDia)))\n",
        "putsUltimoDia =  pd.DataFrame(list(filter(filtraPuts, opcoesUltimoDia)))\n",
        "\n",
        "callsPenultimoDia = pd.DataFrame(list(filter(filtraCalls, opcoesPenultimoDia)))\n",
        "putsPenultimoDia =  pd.DataFrame(list(filter(filtraPuts, opcoesPenultimoDia)))"
      ],
      "execution_count": 10,
      "outputs": []
    },
    {
      "cell_type": "markdown",
      "metadata": {
        "id": "bUUrFLcnjwiD"
      },
      "source": [
        "### CONVERTENDO O DF com dados da B3 em formato de impressão"
      ]
    },
    {
      "cell_type": "code",
      "metadata": {
        "id": "gU4LyIZkFJ0m"
      },
      "source": [
        "def extracaoOpcoes(opts):\n",
        "  opts.columns = ['serie','exercicio','empresa','coberto','descoberto','titulares','trava','total','lancadores', 'vencimento', 'tipoMercado','mer','espPap']\n",
        "  opts = opts.sort_values(by=['exercicio'])\n",
        "  \n",
        "  hashMap = {}\n",
        "  for index, row in opts.iterrows():\n",
        "\n",
        "    titular = row['titulares']\n",
        "    lancador = row['lancadores']\n",
        "    \n",
        "    iq = round(titular/lancador,2) \n",
        "    \n",
        "    descobertos = row['descoberto']\n",
        "\n",
        "    travadas = row['trava']\n",
        "\n",
        "    total = row['total']\n",
        "                \n",
        "    strike = row['exercicio']\n",
        "                    \n",
        "    codigo = row['serie'].strip()\n",
        "    hashMap[codigo] = [codigo, strike, iq, descobertos, travadas, total, titular, lancador]\n",
        "  \n",
        "  return hashMap\n",
        "\n",
        "### convertendo o DF da B3  \n",
        "callsUltimoDia = extracaoOpcoes(callsUltimoDia)\n",
        "callsPenultimoDia = extracaoOpcoes(callsPenultimoDia)\n",
        "\n",
        "putsUltimoDia =  extracaoOpcoes(putsUltimoDia)\n",
        "putsPenultimoDia = extracaoOpcoes(putsPenultimoDia)"
      ],
      "execution_count": 11,
      "outputs": []
    },
    {
      "cell_type": "code",
      "metadata": {
        "id": "96ZFXyiIvgol"
      },
      "source": [
        "# escolher a ação desejada\n",
        "acao = empresa['ticker']+'.SA'\n",
        " \n",
        "# importar dados para o DataFrame\n",
        "dtInicio = ultimoDiaUtil.strftime(\"%m/%d/%Y\")\n",
        "#df = dr.DataReader(acao, data_source='yahoo', start=dtInicio)\n",
        " \n",
        "#ultimoPreco = df.iloc[0]\n",
        "#print(ultimoPreco['Close'])\n",
        "\n"
      ],
      "execution_count": 12,
      "outputs": []
    },
    {
      "cell_type": "markdown",
      "metadata": {
        "id": "XhBTDL_QvjLz"
      },
      "source": [
        "### ESCOLHER O A QTD DE CALLS DE VENCIMENTO ATUAL QUE VAI APARECER NA TABELA E NOS GRÁFICOS - Não afetas as puts, nem afeta as calls do próximo vencimento - escolher início e fim do intervalo"
      ]
    },
    {
      "cell_type": "markdown",
      "metadata": {
        "id": "XXexKlTO73Ok"
      },
      "source": [
        "# CALLS DO VENCIMENTO ATUAL"
      ]
    },
    {
      "cell_type": "code",
      "metadata": {
        "colab": {
          "base_uri": "https://localhost:8080/",
          "height": 990
        },
        "id": "TbfSLCOT7qXx",
        "outputId": "2549df09-cd35-497a-adda-b7a6a6eebfb9"
      },
      "source": [
        "import openpyxl\n",
        "\n",
        "inicioCalls = 45\n",
        "fimCalls = 75\n",
        "\n",
        "dados = montaTabela(callsPenultimoDia, callsUltimoDia)\n",
        "dfIQ = pd.DataFrame(dados, columns=['Código', 'Strike', 'IQ', 'Descobertas', 'Travadas', 'Total', 'Titulares', 'Lançadores'])\n",
        "\n",
        "\n",
        "#display(HTML(dfIQ[1:60].to_html()))\n",
        "len(dfIQ)\n",
        "\n",
        "workbook = openpyxl.Workbook()\n",
        "sheet = workbook.get_sheet_by_name('Sheet')\n",
        "\n",
        "sheet.title = 'Call'\n",
        "row = 1\n",
        "for j in dfIQ['Código']:\n",
        "    row = row + 1 \n",
        "    sheet.cell(row = row,column=1).value=j\n",
        "sheet['A1'] = 'Codigo'  \n",
        "row = 1\n",
        "for j in dfIQ['Strike']:\n",
        "    row = row + 1 \n",
        "    sheet.cell(row = row,column=2).value=j\n",
        "sheet['B1'] = 'Strike'\n",
        "row = 1\n",
        "for j in dfIQ['Descobertas']:\n",
        "    row = row + 1 \n",
        "    sheet.cell(row = row,column=3).value=j\n",
        "sheet['C1'] = 'Descobertas'\n",
        "row = 1\n",
        "for j in dfIQ['Titulares']:\n",
        "    row = row + 1 \n",
        "    sheet.cell(row = row,column=4).value=j\n",
        "sheet['D1'] = 'Titulares'\n",
        "row = 1\n",
        "for j in dfIQ['Lançadores']:\n",
        "    row = row + 1 \n",
        "    sheet.cell(row = row,column=5).value=j\n",
        "sheet['E1'] = 'Lançadores'\n"
      ],
      "execution_count": 13,
      "outputs": []
    },
    {
      "cell_type": "code",
      "execution_count": 14,
      "metadata": {},
      "outputs": [],
      "source": [
        " workbook.save('BD_opcoes.xlsx')"
      ]
    },
    {
      "cell_type": "markdown",
      "metadata": {
        "id": "jBUHRNUR79H6"
      },
      "source": [
        "# PUTS DO VENCIMENTO ATUAL"
      ]
    },
    {
      "cell_type": "code",
      "metadata": {
        "colab": {
          "base_uri": "https://localhost:8080/",
          "height": 834
        },
        "id": "t4HrYnX878Y1",
        "outputId": "4da4d698-5730-4026-e4ea-d981108d9a28"
      },
      "source": [
        "dados = montaTabela(putsPenultimoDia, putsUltimoDia)\n",
        "dfIQ = pd.DataFrame(dados, columns=['Código', 'Strike', 'IQ', 'Descobertas', 'Travadas' , 'Total', 'Titulares', 'Lançadores'])\n",
        "display(HTML(dfIQ[:60].to_html()))\n",
        "callMes = len(dfIQ)"
      ],
      "execution_count": 15,
      "outputs": [
        {
          "output_type": "display_data",
          "data": {
            "text/plain": "<IPython.core.display.HTML object>",
            "text/html": "<table border=\"1\" class=\"dataframe\">\n  <thead>\n    <tr style=\"text-align: right;\">\n      <th></th>\n      <th>Código</th>\n      <th>Strike</th>\n      <th>IQ</th>\n      <th>Descobertas</th>\n      <th>Travadas</th>\n      <th>Total</th>\n      <th>Titulares</th>\n      <th>Lançadores</th>\n    </tr>\n  </thead>\n  <tbody>\n    <tr>\n      <th>0</th>\n      <td>PETRX656</td>\n      <td>6.56</td>\n      <td>8.50 (0.00)</td>\n      <td>1.04 MM  (+0.00)</td>\n      <td>0.77 MM  (+0.00)</td>\n      <td>1.81 MM  (+0.00)</td>\n      <td>119</td>\n      <td>14</td>\n    </tr>\n    <tr>\n      <th>1</th>\n      <td>PETRX756</td>\n      <td>7.56</td>\n      <td>10.38 (0.00)</td>\n      <td>0.15 MM  (+0.00)</td>\n      <td>0.67 MM  (+0.00)</td>\n      <td>0.82 MM  (+0.00)</td>\n      <td>83</td>\n      <td>8</td>\n    </tr>\n    <tr>\n      <th>2</th>\n      <td>PETRX856</td>\n      <td>8.56</td>\n      <td>8.62 (0.00)</td>\n      <td>0.39 MM  (+0.00)</td>\n      <td>0.82 MM  (+0.00)</td>\n      <td>1.21 MM  (+0.00)</td>\n      <td>112</td>\n      <td>13</td>\n    </tr>\n    <tr>\n      <th>3</th>\n      <td>PETRX956</td>\n      <td>9.56</td>\n      <td>12.94 (0.00)</td>\n      <td>1.76 MM  (+0.00)</td>\n      <td>1.34 MM  (+0.00)</td>\n      <td>3.09 MM  (+0.00)</td>\n      <td>233</td>\n      <td>18</td>\n    </tr>\n    <tr>\n      <th>4</th>\n      <td>PETRX106</td>\n      <td>10.61</td>\n      <td>21.13 (0.00)</td>\n      <td>2.83 MM  (+0.00)</td>\n      <td>2.34 MM  (-0.00)</td>\n      <td>5.17 MM  (+0.00)</td>\n      <td>486</td>\n      <td>23</td>\n    </tr>\n    <tr>\n      <th>5</th>\n      <td>PETRX108</td>\n      <td>10.86</td>\n      <td>2.00 (0.00)</td>\n      <td>0.03 MM  (+0.00)</td>\n      <td>0.00 MM  (+0.00)</td>\n      <td>0.03 MM  (+0.00)</td>\n      <td>2</td>\n      <td>1</td>\n    </tr>\n    <tr>\n      <th>6</th>\n      <td>PETRX116</td>\n      <td>11.61</td>\n      <td>14.50 (0.00)</td>\n      <td>9.69 MM  (+0.00)</td>\n      <td>0.45 MM  (+0.00)</td>\n      <td>10.14 MM  (+0.00)</td>\n      <td>435</td>\n      <td>30</td>\n    </tr>\n    <tr>\n      <th>7</th>\n      <td>PETRX65</td>\n      <td>11.86</td>\n      <td>1.50 (0.00)</td>\n      <td>0.33 MM  (+0.00)</td>\n      <td>0.00 MM  (+0.00)</td>\n      <td>0.33 MM  (+0.00)</td>\n      <td>6</td>\n      <td>4</td>\n    </tr>\n    <tr>\n      <th>8</th>\n      <td>PETRX60</td>\n      <td>12.11</td>\n      <td>1.12 (0.00)</td>\n      <td>0.49 MM  (+0.00)</td>\n      <td>0.00 MM  (+0.00)</td>\n      <td>0.49 MM  (+0.00)</td>\n      <td>9</td>\n      <td>8</td>\n    </tr>\n    <tr>\n      <th>9</th>\n      <td>PETRX88</td>\n      <td>12.36</td>\n      <td>0.80 (0.00)</td>\n      <td>0.14 MM  (+0.00)</td>\n      <td>0.00 MM  (+0.00)</td>\n      <td>0.14 MM  (+0.00)</td>\n      <td>4</td>\n      <td>5</td>\n    </tr>\n    <tr>\n      <th>10</th>\n      <td>PETRX826</td>\n      <td>12.61</td>\n      <td>5.52 (0.00)</td>\n      <td>3.93 MM  (+0.01)</td>\n      <td>0.46 MM  (-0.01)</td>\n      <td>4.39 MM  (+0.00)</td>\n      <td>160</td>\n      <td>29</td>\n    </tr>\n    <tr>\n      <th>11</th>\n      <td>PETRX51</td>\n      <td>12.86</td>\n      <td>0.80 (0.00)</td>\n      <td>0.27 MM  (+0.01)</td>\n      <td>0.04 MM  (-0.01)</td>\n      <td>0.31 MM  (+0.00)</td>\n      <td>4</td>\n      <td>5</td>\n    </tr>\n    <tr>\n      <th>12</th>\n      <td>PETRX128</td>\n      <td>13.11</td>\n      <td>1.25 (0.00)</td>\n      <td>0.13 MM  (+0.00)</td>\n      <td>0.47 MM  (+0.00)</td>\n      <td>0.59 MM  (+0.00)</td>\n      <td>5</td>\n      <td>4</td>\n    </tr>\n    <tr>\n      <th>13</th>\n      <td>PETRX133</td>\n      <td>13.36</td>\n      <td>5.67 (0.00)</td>\n      <td>2.01 MM  (+0.03)</td>\n      <td>0.98 MM  (-0.03)</td>\n      <td>3.00 MM  (+0.00)</td>\n      <td>136</td>\n      <td>24</td>\n    </tr>\n    <tr>\n      <th>14</th>\n      <td>PETRX136</td>\n      <td>13.61</td>\n      <td>6.48 (0.00)</td>\n      <td>1.71 MM  (-0.40)</td>\n      <td>1.35 MM  (+0.40)</td>\n      <td>3.06 MM  (+0.00)</td>\n      <td>136</td>\n      <td>21</td>\n    </tr>\n    <tr>\n      <th>15</th>\n      <td>PETRX138</td>\n      <td>13.86</td>\n      <td>9.61 (0.00)</td>\n      <td>1.13 MM  (+0.00)</td>\n      <td>2.09 MM  (-0.00)</td>\n      <td>3.22 MM  (+0.00)</td>\n      <td>221</td>\n      <td>23</td>\n    </tr>\n    <tr>\n      <th>16</th>\n      <td>PETRX56</td>\n      <td>14.11</td>\n      <td>2.67 (0.00)</td>\n      <td>0.04 MM  (+0.00)</td>\n      <td>0.00 MM  (+0.00)</td>\n      <td>0.04 MM  (+0.00)</td>\n      <td>8</td>\n      <td>3</td>\n    </tr>\n    <tr>\n      <th>17</th>\n      <td>PETRX63</td>\n      <td>14.36</td>\n      <td>0.78 (0.00)</td>\n      <td>0.30 MM  (+0.00)</td>\n      <td>0.14 MM  (+0.00)</td>\n      <td>0.44 MM  (+0.00)</td>\n      <td>7</td>\n      <td>9</td>\n    </tr>\n    <tr>\n      <th>18</th>\n      <td>PETRX146</td>\n      <td>14.61</td>\n      <td>3.38 (0.00)</td>\n      <td>0.61 MM  (+0.00)</td>\n      <td>1.27 MM  (+0.00)</td>\n      <td>1.88 MM  (+0.00)</td>\n      <td>108</td>\n      <td>32</td>\n    </tr>\n    <tr>\n      <th>19</th>\n      <td>PETRX148</td>\n      <td>14.86</td>\n      <td>3.93 (0.14)</td>\n      <td>1.41 MM  (-0.00)</td>\n      <td>0.89 MM  (+0.00)</td>\n      <td>2.30 MM  (+0.00)</td>\n      <td>106</td>\n      <td>27</td>\n    </tr>\n    <tr>\n      <th>20</th>\n      <td>PETRX151</td>\n      <td>15.11</td>\n      <td>1.64 (0.00)</td>\n      <td>6.91 MM  (-0.02)</td>\n      <td>1.41 MM  (+0.02)</td>\n      <td>8.32 MM  (+0.00)</td>\n      <td>164</td>\n      <td>100</td>\n    </tr>\n    <tr>\n      <th>21</th>\n      <td>PETRX153</td>\n      <td>15.36</td>\n      <td>3.06 (0.00)</td>\n      <td>0.21 MM  (+0.00)</td>\n      <td>1.60 MM  (+0.00)</td>\n      <td>1.81 MM  (+0.00)</td>\n      <td>101</td>\n      <td>33</td>\n    </tr>\n    <tr>\n      <th>22</th>\n      <td>PETRX156</td>\n      <td>15.61</td>\n      <td>2.74 (0.00)</td>\n      <td>0.63 MM  (+0.00)</td>\n      <td>0.59 MM  (+0.00)</td>\n      <td>1.23 MM  (+0.00)</td>\n      <td>74</td>\n      <td>27</td>\n    </tr>\n    <tr>\n      <th>23</th>\n      <td>PETRX158</td>\n      <td>15.86</td>\n      <td>1.24 (0.03)</td>\n      <td>0.59 MM  (-0.00)</td>\n      <td>0.52 MM  (+0.00)</td>\n      <td>1.11 MM  (+0.00)</td>\n      <td>52</td>\n      <td>42</td>\n    </tr>\n    <tr>\n      <th>24</th>\n      <td>PETRX161</td>\n      <td>16.11</td>\n      <td>3.31 (0.00)</td>\n      <td>0.55 MM  (-0.04)</td>\n      <td>0.97 MM  (+0.00)</td>\n      <td>1.51 MM  (-0.04)</td>\n      <td>129</td>\n      <td>39</td>\n    </tr>\n    <tr>\n      <th>25</th>\n      <td>PETRX163</td>\n      <td>16.36</td>\n      <td>1.43 (-0.02)</td>\n      <td>0.80 MM  (-0.01)</td>\n      <td>0.59 MM  (+0.00)</td>\n      <td>1.39 MM  (-0.01)</td>\n      <td>76</td>\n      <td>53</td>\n    </tr>\n    <tr>\n      <th>26</th>\n      <td>PETRX166</td>\n      <td>16.61</td>\n      <td>2.00 (0.11)</td>\n      <td>0.66 MM  (+0.00)</td>\n      <td>1.97 MM  (+0.00)</td>\n      <td>2.63 MM  (+0.00)</td>\n      <td>72</td>\n      <td>36</td>\n    </tr>\n    <tr>\n      <th>27</th>\n      <td>PETRX168</td>\n      <td>16.86</td>\n      <td>1.00 (0.03)</td>\n      <td>1.47 MM  (+0.49)</td>\n      <td>1.69 MM  (-0.50)</td>\n      <td>3.17 MM  (-0.00)</td>\n      <td>60</td>\n      <td>60</td>\n    </tr>\n    <tr>\n      <th>28</th>\n      <td>PETRX171</td>\n      <td>17.11</td>\n      <td>1.71 (0.03)</td>\n      <td>0.30 MM  (-0.02)</td>\n      <td>1.19 MM  (+0.01)</td>\n      <td>1.49 MM  (-0.00)</td>\n      <td>101</td>\n      <td>59</td>\n    </tr>\n    <tr>\n      <th>29</th>\n      <td>PETRX173</td>\n      <td>17.36</td>\n      <td>1.72 (0.03)</td>\n      <td>0.82 MM  (-0.00)</td>\n      <td>1.37 MM  (+0.00)</td>\n      <td>2.19 MM  (-0.00)</td>\n      <td>127</td>\n      <td>74</td>\n    </tr>\n    <tr>\n      <th>30</th>\n      <td>PETRX176</td>\n      <td>17.61</td>\n      <td>1.15 (0.00)</td>\n      <td>0.52 MM  (-0.03)</td>\n      <td>4.32 MM  (+0.03)</td>\n      <td>4.85 MM  (+0.00)</td>\n      <td>85</td>\n      <td>74</td>\n    </tr>\n    <tr>\n      <th>31</th>\n      <td>PETRX178</td>\n      <td>17.86</td>\n      <td>1.08 (0.03)</td>\n      <td>0.75 MM  (-0.00)</td>\n      <td>2.13 MM  (+0.03)</td>\n      <td>2.88 MM  (+0.03)</td>\n      <td>122</td>\n      <td>113</td>\n    </tr>\n    <tr>\n      <th>32</th>\n      <td>PETRX181</td>\n      <td>18.11</td>\n      <td>1.60 (0.09)</td>\n      <td>0.30 MM  (-0.04)</td>\n      <td>1.84 MM  (-0.01)</td>\n      <td>2.15 MM  (-0.06)</td>\n      <td>139</td>\n      <td>87</td>\n    </tr>\n    <tr>\n      <th>33</th>\n      <td>PETRX183</td>\n      <td>18.36</td>\n      <td>1.37 (0.05)</td>\n      <td>1.47 MM  (-0.01)</td>\n      <td>1.27 MM  (-0.01)</td>\n      <td>2.74 MM  (-0.02)</td>\n      <td>144</td>\n      <td>105</td>\n    </tr>\n    <tr>\n      <th>34</th>\n      <td>PETRX200</td>\n      <td>18.61</td>\n      <td>1.61 (0.03)</td>\n      <td>3.82 MM  (-0.01)</td>\n      <td>0.47 MM  (+0.01)</td>\n      <td>4.29 MM  (+0.00)</td>\n      <td>208</td>\n      <td>129</td>\n    </tr>\n    <tr>\n      <th>35</th>\n      <td>PETRX188</td>\n      <td>18.86</td>\n      <td>1.01 (-0.01)</td>\n      <td>0.79 MM  (+0.01)</td>\n      <td>1.39 MM  (-0.01)</td>\n      <td>2.18 MM  (-0.00)</td>\n      <td>196</td>\n      <td>195</td>\n    </tr>\n    <tr>\n      <th>36</th>\n      <td>PETRX155</td>\n      <td>19.11</td>\n      <td>1.22 (0.01)</td>\n      <td>0.57 MM  (-0.00)</td>\n      <td>1.20 MM  (-0.01)</td>\n      <td>1.77 MM  (-0.01)</td>\n      <td>162</td>\n      <td>133</td>\n    </tr>\n    <tr>\n      <th>37</th>\n      <td>PETRX193</td>\n      <td>19.36</td>\n      <td>1.01 (0.00)</td>\n      <td>0.69 MM  (+0.01)</td>\n      <td>2.29 MM  (-0.00)</td>\n      <td>2.99 MM  (+0.01)</td>\n      <td>190</td>\n      <td>188</td>\n    </tr>\n    <tr>\n      <th>38</th>\n      <td>PETRX210</td>\n      <td>19.61</td>\n      <td>0.93 (0.03)</td>\n      <td>4.21 MM  (-0.05)</td>\n      <td>1.95 MM  (+0.01)</td>\n      <td>6.17 MM  (-0.04)</td>\n      <td>147</td>\n      <td>158</td>\n    </tr>\n    <tr>\n      <th>39</th>\n      <td>PETRX198</td>\n      <td>19.86</td>\n      <td>0.92 (0.00)</td>\n      <td>1.25 MM  (+0.12)</td>\n      <td>6.08 MM  (+0.26)</td>\n      <td>7.32 MM  (+0.38)</td>\n      <td>274</td>\n      <td>297</td>\n    </tr>\n    <tr>\n      <th>40</th>\n      <td>PETRX141</td>\n      <td>20.11</td>\n      <td>0.70 (0.00)</td>\n      <td>0.87 MM  (-0.02)</td>\n      <td>2.45 MM  (-0.01)</td>\n      <td>3.32 MM  (-0.03)</td>\n      <td>243</td>\n      <td>347</td>\n    </tr>\n    <tr>\n      <th>41</th>\n      <td>PETRX203</td>\n      <td>20.36</td>\n      <td>0.64 (0.03)</td>\n      <td>0.49 MM  (-0.03)</td>\n      <td>4.27 MM  (-0.02)</td>\n      <td>4.76 MM  (-0.05)</td>\n      <td>147</td>\n      <td>228</td>\n    </tr>\n    <tr>\n      <th>42</th>\n      <td>PETRX220</td>\n      <td>20.61</td>\n      <td>0.89 (0.01)</td>\n      <td>0.48 MM  (-0.02)</td>\n      <td>8.61 MM  (+0.16)</td>\n      <td>9.10 MM  (+0.14)</td>\n      <td>166</td>\n      <td>186</td>\n    </tr>\n    <tr>\n      <th>43</th>\n      <td>PETRX208</td>\n      <td>20.86</td>\n      <td>0.65 (0.02)</td>\n      <td>2.35 MM  (-0.21)</td>\n      <td>6.31 MM  (-0.19)</td>\n      <td>8.66 MM  (-0.40)</td>\n      <td>214</td>\n      <td>328</td>\n    </tr>\n    <tr>\n      <th>44</th>\n      <td>PETRX211</td>\n      <td>21.11</td>\n      <td>0.63 (0.02)</td>\n      <td>1.15 MM  (-0.02)</td>\n      <td>1.73 MM  (-0.00)</td>\n      <td>2.89 MM  (-0.02)</td>\n      <td>161</td>\n      <td>254</td>\n    </tr>\n    <tr>\n      <th>45</th>\n      <td>PETRX213</td>\n      <td>21.36</td>\n      <td>0.74 (0.04)</td>\n      <td>1.40 MM  (-0.06)</td>\n      <td>4.44 MM  (+0.11)</td>\n      <td>5.84 MM  (+0.06)</td>\n      <td>161</td>\n      <td>219</td>\n    </tr>\n    <tr>\n      <th>46</th>\n      <td>PETRX169</td>\n      <td>21.61</td>\n      <td>1.02 (-0.03)</td>\n      <td>1.12 MM  (-0.01)</td>\n      <td>3.76 MM  (+0.02)</td>\n      <td>4.88 MM  (+0.01)</td>\n      <td>223</td>\n      <td>218</td>\n    </tr>\n    <tr>\n      <th>47</th>\n      <td>PETRX218</td>\n      <td>21.86</td>\n      <td>3.42 (0.09)</td>\n      <td>1.68 MM  (-0.05)</td>\n      <td>7.41 MM  (+0.30)</td>\n      <td>9.09 MM  (+0.25)</td>\n      <td>1453</td>\n      <td>425</td>\n    </tr>\n    <tr>\n      <th>48</th>\n      <td>PETRX221</td>\n      <td>22.11</td>\n      <td>0.93 (0.01)</td>\n      <td>3.22 MM  (-0.07)</td>\n      <td>2.49 MM  (+0.11)</td>\n      <td>5.71 MM  (+0.04)</td>\n      <td>343</td>\n      <td>368</td>\n    </tr>\n    <tr>\n      <th>49</th>\n      <td>PETRX223</td>\n      <td>22.36</td>\n      <td>0.51 (0.00)</td>\n      <td>0.86 MM  (-0.00)</td>\n      <td>2.58 MM  (+0.01)</td>\n      <td>3.44 MM  (+0.01)</td>\n      <td>129</td>\n      <td>254</td>\n    </tr>\n    <tr>\n      <th>50</th>\n      <td>PETRX240</td>\n      <td>22.61</td>\n      <td>0.56 (0.02)</td>\n      <td>2.37 MM  (-0.02)</td>\n      <td>3.28 MM  (-0.04)</td>\n      <td>5.65 MM  (-0.06)</td>\n      <td>174</td>\n      <td>309</td>\n    </tr>\n    <tr>\n      <th>51</th>\n      <td>PETRX228</td>\n      <td>22.86</td>\n      <td>0.73 (-0.02)</td>\n      <td>2.47 MM  (+0.14)</td>\n      <td>7.90 MM  (-0.47)</td>\n      <td>10.37 MM  (-0.33)</td>\n      <td>330</td>\n      <td>453</td>\n    </tr>\n    <tr>\n      <th>52</th>\n      <td>PETRX207</td>\n      <td>23.11</td>\n      <td>0.60 (0.00)</td>\n      <td>2.63 MM  (-0.06)</td>\n      <td>2.52 MM  (+0.92)</td>\n      <td>5.15 MM  (+0.86)</td>\n      <td>194</td>\n      <td>326</td>\n    </tr>\n    <tr>\n      <th>53</th>\n      <td>PETRX233</td>\n      <td>23.36</td>\n      <td>0.56 (0.01)</td>\n      <td>1.99 MM  (-0.01)</td>\n      <td>4.32 MM  (-0.09)</td>\n      <td>6.31 MM  (-0.10)</td>\n      <td>142</td>\n      <td>254</td>\n    </tr>\n    <tr>\n      <th>54</th>\n      <td>PETRX250</td>\n      <td>23.61</td>\n      <td>1.72 (-0.09)</td>\n      <td>0.89 MM  (+0.02)</td>\n      <td>3.03 MM  (-0.27)</td>\n      <td>3.92 MM  (-0.25)</td>\n      <td>422</td>\n      <td>245</td>\n    </tr>\n    <tr>\n      <th>55</th>\n      <td>PETRX238</td>\n      <td>23.86</td>\n      <td>0.40 (-0.02)</td>\n      <td>1.03 MM  (-0.07)</td>\n      <td>2.75 MM  (-0.09)</td>\n      <td>3.78 MM  (-0.15)</td>\n      <td>146</td>\n      <td>362</td>\n    </tr>\n    <tr>\n      <th>56</th>\n      <td>PETRX226</td>\n      <td>24.11</td>\n      <td>0.52 (0.01)</td>\n      <td>1.10 MM  (+0.05)</td>\n      <td>4.35 MM  (+0.06)</td>\n      <td>5.46 MM  (+0.10)</td>\n      <td>147</td>\n      <td>283</td>\n    </tr>\n    <tr>\n      <th>57</th>\n      <td>PETRX243</td>\n      <td>24.36</td>\n      <td>0.63 (0.01)</td>\n      <td>2.60 MM  (-0.03)</td>\n      <td>5.63 MM  (+0.00)</td>\n      <td>8.23 MM  (-0.02)</td>\n      <td>152</td>\n      <td>242</td>\n    </tr>\n    <tr>\n      <th>58</th>\n      <td>PETRX253</td>\n      <td>24.61</td>\n      <td>0.69 (-0.05)</td>\n      <td>2.85 MM  (+1.28)</td>\n      <td>4.03 MM  (-0.19)</td>\n      <td>6.88 MM  (+1.08)</td>\n      <td>116</td>\n      <td>169</td>\n    </tr>\n    <tr>\n      <th>59</th>\n      <td>PETRX25</td>\n      <td>24.86</td>\n      <td>0.47 (0.00)</td>\n      <td>2.08 MM  (-0.00)</td>\n      <td>9.07 MM  (+0.21)</td>\n      <td>11.14 MM  (+0.21)</td>\n      <td>191</td>\n      <td>407</td>\n    </tr>\n  </tbody>\n</table>"
          },
          "metadata": {}
        }
      ]
    },
    {
      "cell_type": "markdown",
      "metadata": {
        "id": "G59l0pNHScvS"
      },
      "source": [
        "### Buscando o próximo vencimento"
      ]
    },
    {
      "cell_type": "code",
      "metadata": {
        "colab": {
          "base_uri": "https://localhost:8080/"
        },
        "id": "56qsnEPNMwk2",
        "outputId": "08687f20-73e5-4839-80be-006a4a46bda6"
      },
      "source": [
        "proximoVencimento = getDataVencimento(dataVencimento + timedelta(dataVencimento.day+1))\n",
        "print (\"Próximo vencimento é em: \", proximoVencimento.strftime(\"%d/%m/%Y\"))\n",
        "\n",
        "filtroEmpreVencProximo = makeFilter(proximoVencimento.strftime(\"%Y%m%d\"), empresa)\n",
        "\n",
        "dictJson = json.loads(jsonUltimoDia.text)\n",
        "lista = dictJson['Empresa'][empresa['letra']]\n",
        "opcoesUltimoDia = list(filter(filtroEmpreVencProximo, lista))\n",
        "\n",
        "dictJson = json.loads(jsonPenultimoDia.text)\n",
        "lista = dictJson['Empresa'][empresa['letra']]\n",
        "opcoesPenultimoDia = list(filter(filtroEmpreVencProximo, lista))"
      ],
      "execution_count": 16,
      "outputs": [
        {
          "output_type": "stream",
          "name": "stdout",
          "text": [
            "Próximo vencimento é em:  18/01/2021\n"
          ]
        }
      ]
    },
    {
      "cell_type": "code",
      "metadata": {
        "id": "VGGKGmyy4z7a"
      },
      "source": [
        "callsPVUltimoDia = pd.DataFrame(list(filter(filtraCalls, opcoesUltimoDia)))\n",
        "putsPVUltimoDia =  pd.DataFrame(list(filter(filtraPuts, opcoesUltimoDia)))\n",
        "\n",
        "callsPVPenultimoDia = pd.DataFrame(list(filter(filtraCalls, opcoesPenultimoDia)))\n",
        "putsPVPenultimoDia =  pd.DataFrame(list(filter(filtraPuts, opcoesPenultimoDia)))\n",
        "\n",
        "### convertendo o DF da B3 \n",
        "callsUltimoDiaProximoVencimento = extracaoOpcoes(callsPVUltimoDia)\n",
        "callsPenultimoDiaProximoVencimento = extracaoOpcoes(callsPVPenultimoDia)\n",
        "\n",
        "putsUltimoDiaProximoVencimento =  extracaoOpcoes(putsPVUltimoDia)\n",
        "putsPenultimoDiaProximoVencimento = extracaoOpcoes(putsPVPenultimoDia)"
      ],
      "execution_count": 17,
      "outputs": []
    },
    {
      "cell_type": "markdown",
      "metadata": {
        "id": "D_qICIFW9tyS"
      },
      "source": [
        "# CALLS DO PRÓXIMO VENCIMENTO"
      ]
    },
    {
      "cell_type": "code",
      "metadata": {
        "colab": {
          "base_uri": "https://localhost:8080/",
          "height": 1000
        },
        "id": "eg33Gw8i8QeI",
        "outputId": "65f849be-b772-473d-cea6-e4c113f47c89"
      },
      "source": [
        "dados = montaTabela(callsPenultimoDiaProximoVencimento, callsUltimoDiaProximoVencimento)\n",
        "dfIQ = pd.DataFrame(dados, columns=['Código', 'Strike', 'IQ', 'Descobertas', 'Travadas' ,'Total', 'Titulares', 'Lançadores'])\n",
        "#display(HTML(dfIQ[1:60].to_html()))\n",
        "len(dfIQ)\n",
        "\n",
        "row = (callMes + 1)\n",
        "for j in dfIQ['Código']:\n",
        "    row = row + 1 \n",
        "    sheet.cell(row = row,column=1).value=j\n",
        "sheet['A1'] = 'Codigo'  \n",
        "row = (callMes + 1)\n",
        "for j in dfIQ['Strike']:\n",
        "    row = row + 1 \n",
        "    sheet.cell(row = row,column=2).value=j\n",
        "sheet['B1'] = 'Strike'\n",
        "row = (callMes + 1)\n",
        "for j in dfIQ['Descobertas']:\n",
        "    row = row + 1 \n",
        "    sheet.cell(row = row,column=3).value=j\n",
        "sheet['C1'] = 'Descobertas'\n",
        "row = (callMes + 1)\n",
        "for j in dfIQ['Titulares']:\n",
        "    row = row + 1 \n",
        "    sheet.cell(row = row,column=4).value=j\n",
        "sheet['D1'] = 'Titulares'\n",
        "row = (callMes + 1)\n",
        "for j in dfIQ['Lançadores']:\n",
        "    row = row + 1 \n",
        "    sheet.cell(row = row,column=5).value=j\n",
        "sheet['E1'] = 'Lançadores'"
      ],
      "execution_count": 23,
      "outputs": []
    },
    {
      "cell_type": "code",
      "execution_count": 24,
      "metadata": {},
      "outputs": [],
      "source": [
        "workbook.save('BD_opcoes.xlsx')"
      ]
    },
    {
      "cell_type": "markdown",
      "metadata": {
        "id": "Py2b7H-dACrZ"
      },
      "source": [
        "# PUTS DO PRÓXIMO VENCIMENTO"
      ]
    },
    {
      "cell_type": "code",
      "metadata": {
        "colab": {
          "base_uri": "https://localhost:8080/",
          "height": 677
        },
        "id": "PeC2V_Qx8bqH",
        "outputId": "bd658579-dd14-4dd6-8af0-bfa4d65723ba"
      },
      "source": [
        "dados = montaTabela(putsPenultimoDiaProximoVencimento, putsUltimoDiaProximoVencimento)\n",
        "dfIQ = pd.DataFrame(dados, columns=['Código', 'Strike', 'IQ', 'Descobertas', 'Travadas', 'Total', 'Titulares', 'Lançadores'])\n",
        "#display(HTML(dfIQ[1:60].to_html()))\n",
        "len(dfIQ)"
      ],
      "execution_count": 20,
      "outputs": [
        {
          "output_type": "execute_result",
          "data": {
            "text/plain": [
              "81"
            ]
          },
          "metadata": {},
          "execution_count": 20
        }
      ]
    },
    {
      "cell_type": "code",
      "execution_count": null,
      "metadata": {},
      "outputs": [],
      "source": []
    }
  ]
}